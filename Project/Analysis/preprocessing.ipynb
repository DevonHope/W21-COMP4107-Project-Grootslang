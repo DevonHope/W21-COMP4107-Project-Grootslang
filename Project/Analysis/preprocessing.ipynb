{
 "metadata": {
  "language_info": {
   "codemirror_mode": {
    "name": "ipython",
    "version": 3
   },
   "file_extension": ".py",
   "mimetype": "text/x-python",
   "name": "python",
   "nbconvert_exporter": "python",
   "pygments_lexer": "ipython3",
   "version": "3.8.5"
  },
  "orig_nbformat": 2,
  "kernelspec": {
   "name": "python385jvsc74a57bd031c3998ea2af89fd1f635145ff57d09825bf8cd0a3eb2b0f401943ec952c7b9c",
   "display_name": "Python 3.8.5 64-bit ('core': conda)"
  }
 },
 "nbformat": 4,
 "nbformat_minor": 2,
 "cells": [
  {
   "cell_type": "code",
   "execution_count": 1,
   "metadata": {},
   "outputs": [],
   "source": [
    "import pandas as pd"
   ]
  },
  {
   "cell_type": "code",
   "execution_count": 75,
   "metadata": {},
   "outputs": [],
   "source": [
    "data = pd.read_csv('../Datasets/MapData-Evans-GP-Flatten.csv')"
   ]
  },
  {
   "source": [
    "# Info\n",
    "1. Remove ununsed columns\n",
    "2. One-hot encoding categorical data\n",
    "3. Calculate weight for each resource\n",
    "4. Sum up resources by the given weight (The sum should be in \\[0.0, 1.0\\])\n",
    "5. Remove resource columns"
   ],
   "cell_type": "markdown",
   "metadata": {}
  },
  {
   "cell_type": "code",
   "execution_count": 7,
   "metadata": {},
   "outputs": [
    {
     "output_type": "stream",
     "name": "stdout",
     "text": [
      "Shape (50901, 79)\n"
     ]
    }
   ],
   "source": [
    "print('Shape', data.shape)"
   ]
  },
  {
   "cell_type": "code",
   "execution_count": 3,
   "metadata": {},
   "outputs": [
    {
     "output_type": "stream",
     "name": "stdout",
     "text": [
      "<class 'pandas.core.frame.DataFrame'>\nRangeIndex: 50901 entries, 0 to 50900\nData columns (total 79 columns):\n #   Column                        Non-Null Count  Dtype \n---  ------                        --------------  ----- \n 0   Latitude °                    50901 non-null  int64 \n 1   Latitude                      50901 non-null  object\n 2   Longitude °                   50901 non-null  int64 \n 3   Longitude                     50901 non-null  object\n 4   Topography                    50901 non-null  object\n 5   Difficulty Challenge          50901 non-null  int64 \n 6   Altitude                      50901 non-null  int64 \n 7   Temperature                   50901 non-null  int64 \n 8   Metals                        50901 non-null  int64 \n 9   Rare Metals                   50901 non-null  int64 \n 10  Concrete                      50901 non-null  int64 \n 11  Water                         50901 non-null  int64 \n 12  Dust Devils                   50901 non-null  int64 \n 13  Dust Storms                   50901 non-null  int64 \n 14  Meteors                       50901 non-null  int64 \n 15  Cold Waves                    50901 non-null  int64 \n 16  Map Name                      50901 non-null  object\n 17  Named Location                11925 non-null  object\n 18  Advanced Drone Drive          50901 non-null  bool  \n 19  Alien Imprints                50901 non-null  bool  \n 20  Ancient Terraforming Device   50901 non-null  bool  \n 21  Artificial Muscles            50901 non-null  bool  \n 22  Autonomous Hubs               50901 non-null  bool  \n 23  Cloning                       50901 non-null  bool  \n 24  Construction Nanites          50901 non-null  bool  \n 25  Core Metals                   50901 non-null  bool  \n 26  Core Rare Metals              50901 non-null  bool  \n 27  Core Water                    50901 non-null  bool  \n 28  Cryo-sleep                    50901 non-null  bool  \n 29  Designed Forestation          50901 non-null  bool  \n 30  Dome Streamlining             50901 non-null  bool  \n 31  Dry Farming                   50901 non-null  bool  \n 32  Eternal Fusion                50901 non-null  bool  \n 33  Extractor AI                  50901 non-null  bool  \n 34  Factory Automation            50901 non-null  bool  \n 35  Forever Young                 50901 non-null  bool  \n 36  Frictionless Composites       50901 non-null  bool  \n 37  Gem Architecture              50901 non-null  bool  \n 38  Gene Selection                50901 non-null  bool  \n 39  Giant Crops                   50901 non-null  bool  \n 40  Good Vibrations               50901 non-null  bool  \n 41  Hive Mind                     50901 non-null  bool  \n 42  Hull Polarization             50901 non-null  bool  \n 43  Hypersensitive Photovoltaics  50901 non-null  bool  \n 44  Inspiring Architecture        50901 non-null  bool  \n 45  Interplanetary Learning       50901 non-null  bool  \n 46  Lake Vaporators               50901 non-null  bool  \n 47  Landscaping Nanites           50901 non-null  bool  \n 48  Magnetic Extraction           50901 non-null  bool  \n 49  Martian Diet                  50901 non-null  bool  \n 50  Martian Steel                 50901 non-null  bool  \n 51  Martianborn Ingenuity         50901 non-null  bool  \n 52  Multispiral Architecture      50901 non-null  bool  \n 53  Nano Refinement               50901 non-null  bool  \n 54  Neo-Concrete                  50901 non-null  bool  \n 55  Neural Empathy                50901 non-null  bool  \n 56  Nocturnal Adaptation          50901 non-null  bool  \n 57  Overcharge Amplifications     50901 non-null  bool  \n 58  Plasma Rocket                 50901 non-null  bool  \n 59  Plutonium Synthesis           50901 non-null  bool  \n 60  Prefab Compression            50901 non-null  bool  \n 61  Printed Electronics           50901 non-null  bool  \n 62  Project Phoenix               50901 non-null  bool  \n 63  Rapid Sleep                   50901 non-null  bool  \n 64  Resilient Vegetation          50901 non-null  bool  \n 65  Safe Mode                     50901 non-null  bool  \n 66  Service Bots                  50901 non-null  bool  \n 67  Soylent Green                 50901 non-null  bool  \n 68  Space Rehabilitation          50901 non-null  bool  \n 69  Superconducting Computing     50901 non-null  bool  \n 70  Superfungus                   50901 non-null  bool  \n 71  Superior Cables               50901 non-null  bool  \n 72  Superior Pipes                50901 non-null  bool  \n 73  Sustained Workload            50901 non-null  bool  \n 74  The Positronic Brain          50901 non-null  bool  \n 75  Vector Pump                   50901 non-null  bool  \n 76  Vocation-Oriented Society     50901 non-null  bool  \n 77  Wireless Power                50901 non-null  bool  \n 78  Zero-Space Computing          50901 non-null  bool  \ndtypes: bool(61), int64(13), object(5)\nmemory usage: 10.0+ MB\n"
     ]
    }
   ],
   "source": [
    "data.info()"
   ]
  },
  {
   "cell_type": "code",
   "execution_count": 5,
   "metadata": {},
   "outputs": [
    {
     "output_type": "execute_result",
     "data": {
      "text/plain": [
       "         Latitude °   Longitude °  Difficulty Challenge      Altitude  \\\n",
       "count  50901.000000  50901.000000          50901.000000  50901.000000   \n",
       "mean      35.248227     90.249307            133.196204   -425.882576   \n",
       "std       20.352820     52.106773             34.572810   2927.879760   \n",
       "min        0.000000      0.000000            100.000000  -8200.000000   \n",
       "25%       18.000000     45.000000            100.000000  -3353.000000   \n",
       "50%       35.000000     90.000000            140.000000   -121.000000   \n",
       "75%       53.000000    135.000000            140.000000   1840.000000   \n",
       "max       70.000000    180.000000            240.000000  21229.000000   \n",
       "\n",
       "       Temperature        Metals   Rare Metals      Concrete         Water  \\\n",
       "count  50901.00000  50901.000000  50901.000000  50901.000000  50901.000000   \n",
       "mean     -35.55828      2.434962      2.434962      2.207069      2.703287   \n",
       "std       30.46709      0.784851      0.784851      1.141824      1.153535   \n",
       "min     -100.00000      1.000000      1.000000      1.000000      1.000000   \n",
       "25%      -72.00000      2.000000      2.000000      1.000000      2.000000   \n",
       "50%      -15.00000      2.000000      2.000000      2.000000      3.000000   \n",
       "75%      -15.00000      3.000000      3.000000      3.000000      4.000000   \n",
       "max       -1.00000      4.000000      4.000000      4.000000      4.000000   \n",
       "\n",
       "        Dust Devils   Dust Storms       Meteors    Cold Waves  \n",
       "count  50901.000000  50901.000000  50901.000000  50901.000000  \n",
       "mean       1.675802      2.214416      2.120823      2.150744  \n",
       "std        0.648712      1.138605      0.971024      1.388051  \n",
       "min        1.000000      1.000000      1.000000      1.000000  \n",
       "25%        1.000000      1.000000      1.000000      1.000000  \n",
       "50%        2.000000      2.000000      2.000000      1.000000  \n",
       "75%        2.000000      3.000000      3.000000      4.000000  \n",
       "max        4.000000      4.000000      4.000000      4.000000  "
      ],
      "text/html": "<div>\n<style scoped>\n    .dataframe tbody tr th:only-of-type {\n        vertical-align: middle;\n    }\n\n    .dataframe tbody tr th {\n        vertical-align: top;\n    }\n\n    .dataframe thead th {\n        text-align: right;\n    }\n</style>\n<table border=\"1\" class=\"dataframe\">\n  <thead>\n    <tr style=\"text-align: right;\">\n      <th></th>\n      <th>Latitude °</th>\n      <th>Longitude °</th>\n      <th>Difficulty Challenge</th>\n      <th>Altitude</th>\n      <th>Temperature</th>\n      <th>Metals</th>\n      <th>Rare Metals</th>\n      <th>Concrete</th>\n      <th>Water</th>\n      <th>Dust Devils</th>\n      <th>Dust Storms</th>\n      <th>Meteors</th>\n      <th>Cold Waves</th>\n    </tr>\n  </thead>\n  <tbody>\n    <tr>\n      <th>count</th>\n      <td>50901.000000</td>\n      <td>50901.000000</td>\n      <td>50901.000000</td>\n      <td>50901.000000</td>\n      <td>50901.00000</td>\n      <td>50901.000000</td>\n      <td>50901.000000</td>\n      <td>50901.000000</td>\n      <td>50901.000000</td>\n      <td>50901.000000</td>\n      <td>50901.000000</td>\n      <td>50901.000000</td>\n      <td>50901.000000</td>\n    </tr>\n    <tr>\n      <th>mean</th>\n      <td>35.248227</td>\n      <td>90.249307</td>\n      <td>133.196204</td>\n      <td>-425.882576</td>\n      <td>-35.55828</td>\n      <td>2.434962</td>\n      <td>2.434962</td>\n      <td>2.207069</td>\n      <td>2.703287</td>\n      <td>1.675802</td>\n      <td>2.214416</td>\n      <td>2.120823</td>\n      <td>2.150744</td>\n    </tr>\n    <tr>\n      <th>std</th>\n      <td>20.352820</td>\n      <td>52.106773</td>\n      <td>34.572810</td>\n      <td>2927.879760</td>\n      <td>30.46709</td>\n      <td>0.784851</td>\n      <td>0.784851</td>\n      <td>1.141824</td>\n      <td>1.153535</td>\n      <td>0.648712</td>\n      <td>1.138605</td>\n      <td>0.971024</td>\n      <td>1.388051</td>\n    </tr>\n    <tr>\n      <th>min</th>\n      <td>0.000000</td>\n      <td>0.000000</td>\n      <td>100.000000</td>\n      <td>-8200.000000</td>\n      <td>-100.00000</td>\n      <td>1.000000</td>\n      <td>1.000000</td>\n      <td>1.000000</td>\n      <td>1.000000</td>\n      <td>1.000000</td>\n      <td>1.000000</td>\n      <td>1.000000</td>\n      <td>1.000000</td>\n    </tr>\n    <tr>\n      <th>25%</th>\n      <td>18.000000</td>\n      <td>45.000000</td>\n      <td>100.000000</td>\n      <td>-3353.000000</td>\n      <td>-72.00000</td>\n      <td>2.000000</td>\n      <td>2.000000</td>\n      <td>1.000000</td>\n      <td>2.000000</td>\n      <td>1.000000</td>\n      <td>1.000000</td>\n      <td>1.000000</td>\n      <td>1.000000</td>\n    </tr>\n    <tr>\n      <th>50%</th>\n      <td>35.000000</td>\n      <td>90.000000</td>\n      <td>140.000000</td>\n      <td>-121.000000</td>\n      <td>-15.00000</td>\n      <td>2.000000</td>\n      <td>2.000000</td>\n      <td>2.000000</td>\n      <td>3.000000</td>\n      <td>2.000000</td>\n      <td>2.000000</td>\n      <td>2.000000</td>\n      <td>1.000000</td>\n    </tr>\n    <tr>\n      <th>75%</th>\n      <td>53.000000</td>\n      <td>135.000000</td>\n      <td>140.000000</td>\n      <td>1840.000000</td>\n      <td>-15.00000</td>\n      <td>3.000000</td>\n      <td>3.000000</td>\n      <td>3.000000</td>\n      <td>4.000000</td>\n      <td>2.000000</td>\n      <td>3.000000</td>\n      <td>3.000000</td>\n      <td>4.000000</td>\n    </tr>\n    <tr>\n      <th>max</th>\n      <td>70.000000</td>\n      <td>180.000000</td>\n      <td>240.000000</td>\n      <td>21229.000000</td>\n      <td>-1.00000</td>\n      <td>4.000000</td>\n      <td>4.000000</td>\n      <td>4.000000</td>\n      <td>4.000000</td>\n      <td>4.000000</td>\n      <td>4.000000</td>\n      <td>4.000000</td>\n      <td>4.000000</td>\n    </tr>\n  </tbody>\n</table>\n</div>"
     },
     "metadata": {},
     "execution_count": 5
    }
   ],
   "source": [
    "data.describe()"
   ]
  },
  {
   "cell_type": "code",
   "execution_count": 8,
   "metadata": {},
   "outputs": [
    {
     "output_type": "execute_result",
     "data": {
      "text/plain": [
       "   Latitude ° Latitude  Longitude ° Longitude       Topography  \\\n",
       "0           0        S            0         E  Relatively Flat   \n",
       "1           0        S            1         E  Relatively Flat   \n",
       "2           0        S            1         W  Relatively Flat   \n",
       "3           0        S            2         E  Relatively Flat   \n",
       "4           0        S            2         W  Relatively Flat   \n",
       "\n",
       "   Difficulty Challenge  Altitude  Temperature  Metals  Rare Metals  ...  \\\n",
       "0                   140      -929           -1       2            2  ...   \n",
       "1                   100     -1160           -1       2            2  ...   \n",
       "2                   100     -1160           -3       2            2  ...   \n",
       "3                   140     -1160           -1       2            2  ...   \n",
       "4                   100      -929           -3       2            2  ...   \n",
       "\n",
       "   Superconducting Computing  Superfungus  Superior Cables  Superior Pipes  \\\n",
       "0                       True         True            False           False   \n",
       "1                       True        False            False           False   \n",
       "2                      False        False            False           False   \n",
       "3                       True        False             True           False   \n",
       "4                       True        False            False           False   \n",
       "\n",
       "   Sustained Workload  The Positronic Brain Vector Pump  \\\n",
       "0               False                 False       False   \n",
       "1                True                 False       False   \n",
       "2               False                 False       False   \n",
       "3               False                 False       False   \n",
       "4               False                 False        True   \n",
       "\n",
       "  Vocation-Oriented Society  Wireless Power  Zero-Space Computing  \n",
       "0                      True           False                  True  \n",
       "1                     False           False                 False  \n",
       "2                      True           False                 False  \n",
       "3                     False           False                 False  \n",
       "4                     False           False                  True  \n",
       "\n",
       "[5 rows x 79 columns]"
      ],
      "text/html": "<div>\n<style scoped>\n    .dataframe tbody tr th:only-of-type {\n        vertical-align: middle;\n    }\n\n    .dataframe tbody tr th {\n        vertical-align: top;\n    }\n\n    .dataframe thead th {\n        text-align: right;\n    }\n</style>\n<table border=\"1\" class=\"dataframe\">\n  <thead>\n    <tr style=\"text-align: right;\">\n      <th></th>\n      <th>Latitude °</th>\n      <th>Latitude</th>\n      <th>Longitude °</th>\n      <th>Longitude</th>\n      <th>Topography</th>\n      <th>Difficulty Challenge</th>\n      <th>Altitude</th>\n      <th>Temperature</th>\n      <th>Metals</th>\n      <th>Rare Metals</th>\n      <th>...</th>\n      <th>Superconducting Computing</th>\n      <th>Superfungus</th>\n      <th>Superior Cables</th>\n      <th>Superior Pipes</th>\n      <th>Sustained Workload</th>\n      <th>The Positronic Brain</th>\n      <th>Vector Pump</th>\n      <th>Vocation-Oriented Society</th>\n      <th>Wireless Power</th>\n      <th>Zero-Space Computing</th>\n    </tr>\n  </thead>\n  <tbody>\n    <tr>\n      <th>0</th>\n      <td>0</td>\n      <td>S</td>\n      <td>0</td>\n      <td>E</td>\n      <td>Relatively Flat</td>\n      <td>140</td>\n      <td>-929</td>\n      <td>-1</td>\n      <td>2</td>\n      <td>2</td>\n      <td>...</td>\n      <td>True</td>\n      <td>True</td>\n      <td>False</td>\n      <td>False</td>\n      <td>False</td>\n      <td>False</td>\n      <td>False</td>\n      <td>True</td>\n      <td>False</td>\n      <td>True</td>\n    </tr>\n    <tr>\n      <th>1</th>\n      <td>0</td>\n      <td>S</td>\n      <td>1</td>\n      <td>E</td>\n      <td>Relatively Flat</td>\n      <td>100</td>\n      <td>-1160</td>\n      <td>-1</td>\n      <td>2</td>\n      <td>2</td>\n      <td>...</td>\n      <td>True</td>\n      <td>False</td>\n      <td>False</td>\n      <td>False</td>\n      <td>True</td>\n      <td>False</td>\n      <td>False</td>\n      <td>False</td>\n      <td>False</td>\n      <td>False</td>\n    </tr>\n    <tr>\n      <th>2</th>\n      <td>0</td>\n      <td>S</td>\n      <td>1</td>\n      <td>W</td>\n      <td>Relatively Flat</td>\n      <td>100</td>\n      <td>-1160</td>\n      <td>-3</td>\n      <td>2</td>\n      <td>2</td>\n      <td>...</td>\n      <td>False</td>\n      <td>False</td>\n      <td>False</td>\n      <td>False</td>\n      <td>False</td>\n      <td>False</td>\n      <td>False</td>\n      <td>True</td>\n      <td>False</td>\n      <td>False</td>\n    </tr>\n    <tr>\n      <th>3</th>\n      <td>0</td>\n      <td>S</td>\n      <td>2</td>\n      <td>E</td>\n      <td>Relatively Flat</td>\n      <td>140</td>\n      <td>-1160</td>\n      <td>-1</td>\n      <td>2</td>\n      <td>2</td>\n      <td>...</td>\n      <td>True</td>\n      <td>False</td>\n      <td>True</td>\n      <td>False</td>\n      <td>False</td>\n      <td>False</td>\n      <td>False</td>\n      <td>False</td>\n      <td>False</td>\n      <td>False</td>\n    </tr>\n    <tr>\n      <th>4</th>\n      <td>0</td>\n      <td>S</td>\n      <td>2</td>\n      <td>W</td>\n      <td>Relatively Flat</td>\n      <td>100</td>\n      <td>-929</td>\n      <td>-3</td>\n      <td>2</td>\n      <td>2</td>\n      <td>...</td>\n      <td>True</td>\n      <td>False</td>\n      <td>False</td>\n      <td>False</td>\n      <td>False</td>\n      <td>False</td>\n      <td>True</td>\n      <td>False</td>\n      <td>False</td>\n      <td>True</td>\n    </tr>\n  </tbody>\n</table>\n<p>5 rows × 79 columns</p>\n</div>"
     },
     "metadata": {},
     "execution_count": 8
    }
   ],
   "source": [
    "data.head()"
   ]
  },
  {
   "source": [
    "Latitude, Longtitude and Altitude are special case that we will use as labels. Ignore it now"
   ],
   "cell_type": "markdown",
   "metadata": {}
  },
  {
   "source": [
    "## Remove ununsed columns"
   ],
   "cell_type": "markdown",
   "metadata": {}
  },
  {
   "cell_type": "code",
   "execution_count": 76,
   "metadata": {},
   "outputs": [
    {
     "output_type": "stream",
     "name": "stdout",
     "text": [
      "Categorical attributes\n['Latitude', 'Longitude', 'Topography', 'Map Name', 'Named Location']\n"
     ]
    }
   ],
   "source": [
    "s = (data.dtypes == 'object')\n",
    "object_cols = list(s[s].index)\n",
    "print(\"Categorical attributes\")\n",
    "print(object_cols)\n",
    "\n",
    "# We need to remove unnecessary attributes in order to train the network\n",
    "# Map Name, Named Location"
   ]
  },
  {
   "cell_type": "code",
   "execution_count": 77,
   "metadata": {},
   "outputs": [],
   "source": [
    "data_dropped = data.drop(['Map Name', 'Named Location'], axis=1)\n",
    "object_cols = ['Latitude', 'Longitude', 'Topography']"
   ]
  },
  {
   "source": [
    "## One-hot encoding"
   ],
   "cell_type": "markdown",
   "metadata": {}
  },
  {
   "cell_type": "code",
   "execution_count": 9,
   "metadata": {},
   "outputs": [],
   "source": [
    "from sklearn.preprocessing import OneHotEncoder"
   ]
  },
  {
   "cell_type": "code",
   "execution_count": 78,
   "metadata": {},
   "outputs": [
    {
     "output_type": "execute_result",
     "data": {
      "text/plain": [
       "   Latitude_N  Latitude_S  Longitude_E  Longitude_W  Topography_Mountainous  \\\n",
       "0           0           1            1            0                       0   \n",
       "1           0           1            1            0                       0   \n",
       "2           0           1            0            1                       0   \n",
       "3           0           1            1            0                       0   \n",
       "4           0           1            0            1                       0   \n",
       "\n",
       "   Topography_Relatively Flat  Topography_Rough  Topography_Steep  \n",
       "0                           1                 0                 0  \n",
       "1                           1                 0                 0  \n",
       "2                           1                 0                 0  \n",
       "3                           1                 0                 0  \n",
       "4                           1                 0                 0  "
      ],
      "text/html": "<div>\n<style scoped>\n    .dataframe tbody tr th:only-of-type {\n        vertical-align: middle;\n    }\n\n    .dataframe tbody tr th {\n        vertical-align: top;\n    }\n\n    .dataframe thead th {\n        text-align: right;\n    }\n</style>\n<table border=\"1\" class=\"dataframe\">\n  <thead>\n    <tr style=\"text-align: right;\">\n      <th></th>\n      <th>Latitude_N</th>\n      <th>Latitude_S</th>\n      <th>Longitude_E</th>\n      <th>Longitude_W</th>\n      <th>Topography_Mountainous</th>\n      <th>Topography_Relatively Flat</th>\n      <th>Topography_Rough</th>\n      <th>Topography_Steep</th>\n    </tr>\n  </thead>\n  <tbody>\n    <tr>\n      <th>0</th>\n      <td>0</td>\n      <td>1</td>\n      <td>1</td>\n      <td>0</td>\n      <td>0</td>\n      <td>1</td>\n      <td>0</td>\n      <td>0</td>\n    </tr>\n    <tr>\n      <th>1</th>\n      <td>0</td>\n      <td>1</td>\n      <td>1</td>\n      <td>0</td>\n      <td>0</td>\n      <td>1</td>\n      <td>0</td>\n      <td>0</td>\n    </tr>\n    <tr>\n      <th>2</th>\n      <td>0</td>\n      <td>1</td>\n      <td>0</td>\n      <td>1</td>\n      <td>0</td>\n      <td>1</td>\n      <td>0</td>\n      <td>0</td>\n    </tr>\n    <tr>\n      <th>3</th>\n      <td>0</td>\n      <td>1</td>\n      <td>1</td>\n      <td>0</td>\n      <td>0</td>\n      <td>1</td>\n      <td>0</td>\n      <td>0</td>\n    </tr>\n    <tr>\n      <th>4</th>\n      <td>0</td>\n      <td>1</td>\n      <td>0</td>\n      <td>1</td>\n      <td>0</td>\n      <td>1</td>\n      <td>0</td>\n      <td>0</td>\n    </tr>\n  </tbody>\n</table>\n</div>"
     },
     "metadata": {},
     "execution_count": 78
    }
   ],
   "source": [
    "data_encoded = data_dropped.copy()\n",
    "for object_col in object_cols:\n",
    "    col = pd.get_dummies(data_dropped[object_col], prefix=object_col)\n",
    "    data_encoded = pd.concat([data_encoded, col], axis=1)\n",
    "data_encoded.iloc[:5, -8:]"
   ]
  },
  {
   "cell_type": "code",
   "execution_count": 72,
   "metadata": {},
   "outputs": [],
   "source": [
    "# Remove categorical cols. Run only once\n",
    "data_encoded = data_encoded.drop(object_cols, axis=1)"
   ]
  },
  {
   "source": [
    "## Calculate weight for each resource"
   ],
   "cell_type": "markdown",
   "metadata": {}
  },
  {
   "source": [
    "Be careful, we should generate resource map and danger map first"
   ],
   "cell_type": "markdown",
   "metadata": {}
  },
  {
   "cell_type": "code",
   "execution_count": null,
   "metadata": {},
   "outputs": [],
   "source": [
    "# Bool resources\n",
    "\n",
    "# Numerical resources\n"
   ]
  },
  {
   "source": [
    "## Sum up resources by their weights"
   ],
   "cell_type": "markdown",
   "metadata": {}
  },
  {
   "cell_type": "code",
   "execution_count": null,
   "metadata": {},
   "outputs": [],
   "source": []
  }
 ]
}