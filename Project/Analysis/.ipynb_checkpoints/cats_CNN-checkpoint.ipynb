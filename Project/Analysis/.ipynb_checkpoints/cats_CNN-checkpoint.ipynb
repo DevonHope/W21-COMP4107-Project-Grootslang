{
 "cells": [
  {
   "cell_type": "code",
   "execution_count": 3,
   "id": "3b3ce066",
   "metadata": {},
   "outputs": [
    {
     "data": {
      "text/html": [
       "<div>\n",
       "<style scoped>\n",
       "    .dataframe tbody tr th:only-of-type {\n",
       "        vertical-align: middle;\n",
       "    }\n",
       "\n",
       "    .dataframe tbody tr th {\n",
       "        vertical-align: top;\n",
       "    }\n",
       "\n",
       "    .dataframe thead th {\n",
       "        text-align: right;\n",
       "    }\n",
       "</style>\n",
       "<table border=\"1\" class=\"dataframe\">\n",
       "  <thead>\n",
       "    <tr style=\"text-align: right;\">\n",
       "      <th></th>\n",
       "      <th>age</th>\n",
       "      <th>gender</th>\n",
       "      <th>size</th>\n",
       "      <th>coat</th>\n",
       "      <th>breed</th>\n",
       "      <th>image</th>\n",
       "    </tr>\n",
       "  </thead>\n",
       "  <tbody>\n",
       "    <tr>\n",
       "      <th>260</th>\n",
       "      <td>3.0</td>\n",
       "      <td>1.0</td>\n",
       "      <td>2.0</td>\n",
       "      <td>3.0</td>\n",
       "      <td>1.0</td>\n",
       "      <td>American Bobtail/46407834_34198.jpg</td>\n",
       "    </tr>\n",
       "    <tr>\n",
       "      <th>261</th>\n",
       "      <td>3.0</td>\n",
       "      <td>1.0</td>\n",
       "      <td>2.0</td>\n",
       "      <td>3.0</td>\n",
       "      <td>1.0</td>\n",
       "      <td>American Bobtail/46407781_34210.jpg</td>\n",
       "    </tr>\n",
       "    <tr>\n",
       "      <th>264</th>\n",
       "      <td>0.0</td>\n",
       "      <td>0.0</td>\n",
       "      <td>2.0</td>\n",
       "      <td>3.0</td>\n",
       "      <td>1.0</td>\n",
       "      <td>American Bobtail/46330160_41521.jpg</td>\n",
       "    </tr>\n",
       "    <tr>\n",
       "      <th>266</th>\n",
       "      <td>1.0</td>\n",
       "      <td>1.0</td>\n",
       "      <td>1.0</td>\n",
       "      <td>1.0</td>\n",
       "      <td>1.0</td>\n",
       "      <td>American Bobtail/46289156_45141.jpg</td>\n",
       "    </tr>\n",
       "    <tr>\n",
       "      <th>267</th>\n",
       "      <td>3.0</td>\n",
       "      <td>0.0</td>\n",
       "      <td>3.0</td>\n",
       "      <td>3.0</td>\n",
       "      <td>1.0</td>\n",
       "      <td>American Bobtail/46194971_53315.jpg</td>\n",
       "    </tr>\n",
       "  </tbody>\n",
       "</table>\n",
       "</div>"
      ],
      "text/plain": [
       "     age  gender  size  coat  breed                                image\n",
       "260  3.0     1.0   2.0   3.0    1.0  American Bobtail/46407834_34198.jpg\n",
       "261  3.0     1.0   2.0   3.0    1.0  American Bobtail/46407781_34210.jpg\n",
       "264  0.0     0.0   2.0   3.0    1.0  American Bobtail/46330160_41521.jpg\n",
       "266  1.0     1.0   1.0   1.0    1.0  American Bobtail/46289156_45141.jpg\n",
       "267  3.0     0.0   3.0   3.0    1.0  American Bobtail/46194971_53315.jpg"
      ]
     },
     "execution_count": 3,
     "metadata": {},
     "output_type": "execute_result"
    }
   ],
   "source": [
    "import pandas as pd\n",
    "import os\n",
    "\n",
    "# read in df\n",
    "fn = 'working_cats/data/breeds_data_final.pkl'\n",
    "breeds = pd.read_pickle(fn)\n",
    "breeds.head()"
   ]
  },
  {
   "cell_type": "code",
   "execution_count": 4,
   "id": "61b6f16a",
   "metadata": {},
   "outputs": [],
   "source": [
    "# traditional CNN\n",
    "from tensorflow.keras.models import Sequential\n",
    "from tensorflow.keras.optimizers import RMSprop\n",
    "from tensorflow.keras.utils import plot_model\n",
    "from tensorflow.keras.layers import Dense, Dropout, Activation, Flatten, Conv2D, MaxPooling2D\n",
    "\n",
    "# resize images to 128x128\n"
   ]
  }
 ],
 "metadata": {
  "kernelspec": {
   "display_name": "gpu-test",
   "language": "python",
   "name": "gpu-test"
  }
 },
 "nbformat": 4,
 "nbformat_minor": 5
}
