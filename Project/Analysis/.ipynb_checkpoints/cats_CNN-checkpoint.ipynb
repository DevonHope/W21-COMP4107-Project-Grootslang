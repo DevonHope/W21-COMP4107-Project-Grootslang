{
 "cells": [
  {
   "cell_type": "code",
   "execution_count": 1,
   "id": "710bf33f",
   "metadata": {},
   "outputs": [
    {
     "name": "stdout",
     "output_type": "stream",
     "text": [
      "<class 'pandas.core.frame.DataFrame'>\n",
      "Int64Index: 37807 entries, 260 to 67143\n",
      "Data columns (total 11 columns):\n",
      " #   Column      Non-Null Count  Dtype  \n",
      "---  ------      --------------  -----  \n",
      " 0   Unnamed: 0  37807 non-null  int64  \n",
      " 1   id          37807 non-null  int64  \n",
      " 2   url         37807 non-null  object \n",
      " 3   type        37807 non-null  object \n",
      " 4   age         37807 non-null  float64\n",
      " 5   gender      37807 non-null  float64\n",
      " 6   size        37807 non-null  float64\n",
      " 7   coat        37807 non-null  float64\n",
      " 8   breed       37807 non-null  float64\n",
      " 9   photos      37807 non-null  object \n",
      " 10  med_photos  37807 non-null  object \n",
      "dtypes: float64(5), int64(2), object(4)\n",
      "memory usage: 3.5+ MB\n"
     ]
    }
   ],
   "source": [
    "import pandas as pd\n",
    "import os\n",
    "\n",
    "# read in df\n",
    "fn = 'working_cats/data/breeds_data_encoded.pkl'\n",
    "breeds = pd.read_pickle(fn)\n",
    "breeds.info()"
   ]
  },
  {
   "cell_type": "code",
   "execution_count": null,
   "id": "d10d2c3f",
   "metadata": {},
   "outputs": [],
   "source": [
    "# CNN\n"
   ]
  }
 ],
 "metadata": {
  "kernelspec": {
   "display_name": "gpu-test",
   "language": "python",
   "name": "gpu-test"
  },
  "language_info": {
   "codemirror_mode": {
    "name": "ipython",
    "version": 3
   },
   "file_extension": ".py",
   "mimetype": "text/x-python",
   "name": "python",
   "nbconvert_exporter": "python",
   "pygments_lexer": "ipython3",
   "version": "3.8.8"
  }
 },
 "nbformat": 4,
 "nbformat_minor": 5
}
