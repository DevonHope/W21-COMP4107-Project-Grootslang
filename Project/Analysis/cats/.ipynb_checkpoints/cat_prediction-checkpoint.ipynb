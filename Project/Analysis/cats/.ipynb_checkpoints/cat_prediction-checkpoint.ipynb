{
 "cells": [
  {
   "cell_type": "code",
   "execution_count": 7,
   "id": "7805d82b",
   "metadata": {},
   "outputs": [
    {
     "name": "stdout",
     "output_type": "stream",
     "text": [
      "Default GPU Device: /device:GPU:0\n"
     ]
    }
   ],
   "source": [
    "import numpy as np\n",
    "import tensorflow as tf\n",
    "import seaborn as sns\n",
    "import pandas as pd\n",
    "import os\n",
    "from tensorflow.keras.models import Sequential\n",
    "from tensorflow.keras.optimizers import RMSprop\n",
    "from tensorflow.keras.utils import plot_model\n",
    "from tensorflow.keras.layers import Dense, Dropout, Activation, Flatten, Conv2D, MaxPooling2D\n",
    "import shutil\n",
    "import random\n",
    "\n",
    "from glob import glob\n",
    "import cv2                \n",
    "import matplotlib.pyplot as plt                        \n",
    "from tqdm import tqdm\n",
    "\n",
    "from PIL import ImageFile\n",
    "from PIL import Image\n",
    "ImageFile.LOAD_TRUNCATED_IMAGES = True\n",
    "\n",
    "from torchvision import datasets\n",
    "import torchvision.transforms as transforms\n",
    "\n",
    "import torch\n",
    "import torchvision.models as models\n",
    "import torch.nn as nn\n",
    "import torch.nn.functional as F\n",
    "import torch.optim as optim\n",
    "\n",
    "if tf.test.gpu_device_name():\n",
    "   print('Default GPU Device: {}'.format(tf.test.gpu_device_name()))\n",
    "else:\n",
    "   print(\"Please install GPU version of TF\")"
   ]
  },
  {
   "cell_type": "code",
   "execution_count": 8,
   "id": "735a7c49",
   "metadata": {},
   "outputs": [
    {
     "name": "stdout",
     "output_type": "stream",
     "text": [
      "['Abyssinian', 'American Bobtail', 'American Curl', 'American Shorthair', 'American Wirehair', 'Applehead Siamese', 'Balinese', 'Bengal', 'Birman', 'Bombay', 'British Shorthair', 'Burmese', 'Burmilla', 'Calico', 'Canadian Hairless', 'Chartreux', 'Chausie', 'Chinchilla', 'Cornish Rex', 'Cymric', 'Devon Rex', 'Dilute Calico', 'Dilute Tortoiseshell', 'Domestic Long Hair', 'Domestic Medium Hair', 'Domestic Short Hair', 'Egyptian Mau', 'Exotic Shorthair', 'Extra-Toes Cat - Hemingway Polydactyl', 'Havana', 'Himalayan', 'Japanese Bobtail', 'Javanese', 'Korat', 'LaPerm', 'Maine Coon', 'Manx', 'Munchkin', 'Nebelung', 'Norwegian Forest Cat', 'Ocicat', 'Oriental Long Hair', 'Oriental Short Hair', 'Oriental Tabby', 'Persian', 'Pixiebob', 'Ragamuffin', 'Ragdoll', 'Russian Blue', 'Scottish Fold', 'Selkirk Rex', 'Siamese', 'Siberian', 'Silver', 'Singapura', 'Snowshoe', 'Somali', 'Sphynx - Hairless Cat', 'Tabby', 'Tiger', 'Tonkinese', 'Torbie', 'Tortoiseshell', 'Turkish Angora', 'Turkish Van', 'Tuxedo', 'York Chocolate']\n"
     ]
    }
   ],
   "source": [
    "classes_list = os.listdir('../Datasets/cats/images')\n",
    "print (classes_list)"
   ]
  },
  {
   "cell_type": "code",
   "execution_count": 10,
   "id": "69078a5c",
   "metadata": {},
   "outputs": [],
   "source": [
    "root_dir = '../Datasets/cats/images/' # data root path (data origin)\n",
    "working_dir = 'working_cats/images/'\n",
    "classes_dir = classes_list #total labels\n",
    "\n",
    "num_classes = len(classes_list)\n",
    "\n",
    "val_ratio = 0.15\n",
    "test_ratio = 0.05"
   ]
  },
  {
   "cell_type": "code",
   "execution_count": 11,
   "id": "2db74f49",
   "metadata": {},
   "outputs": [],
   "source": [
    "if (os.path.isdir('working_cats/') == False):\n",
    "    #shutil.rmtree('../working/')\n",
    "    os.listdir('working_cats/')\n",
    "    !os.mkdir(working_dir)"
   ]
  },
  {
   "cell_type": "code",
   "execution_count": null,
   "id": "62e784f7",
   "metadata": {},
   "outputs": [],
   "source": [
    "if (os.path.isdir('working_cats') == False):\n",
    "    for cls in classes_dir:\n",
    "        os.makedirs(working_dir +'train/' + cls)\n",
    "        os.makedirs(working_dir +'val/' + cls)\n",
    "        os.makedirs(working_dir +'test/' + cls)\n",
    "\n",
    "\n",
    "        # Creating partitions of the data after shuffling\n",
    "        src = root_dir + cls # Folder to copy images from\n",
    "\n",
    "        allFileNames = os.listdir(src)\n",
    "        #np.random.shuffle(allFileNames)\n",
    "        train_FileNames, val_FileNames, test_FileNames = np.split(np.array(allFileNames),\n",
    "                                                                  [int(len(allFileNames)* (1 - (val_ratio + test_ratio))), \n",
    "                                                                   int(len(allFileNames)* (1 - test_ratio))])\n",
    "\n",
    "\n",
    "        train_FileNames = [src+ '/' + name for name in train_FileNames.tolist()]\n",
    "        val_FileNames = [src + '/' +name for name in val_FileNames.tolist()]\n",
    "        test_FileNames = [src + '/' +name for name in test_FileNames.tolist()]\n",
    "\n",
    "\n",
    "        # Copy-pasting images\n",
    "        print(cls)\n",
    "        for name in train_FileNames:\n",
    "            shutil.copy(name, working_dir +'train/' + cls)\n",
    "\n",
    "        for name in val_FileNames:\n",
    "            shutil.copy(name, working_dir +'val/' + cls)\n",
    "\n",
    "        for name in test_FileNames:\n",
    "            shutil.copy(name, working_dir +'test/' + cls)\n",
    "\n",
    "        print(cls, ' complete.')"
   ]
  },
  {
   "cell_type": "code",
   "execution_count": null,
   "id": "f95152f6",
   "metadata": {},
   "outputs": [],
   "source": []
  },
  {
   "cell_type": "code",
   "execution_count": null,
   "id": "d3280185",
   "metadata": {},
   "outputs": [],
   "source": []
  }
 ],
 "metadata": {
  "kernelspec": {
   "display_name": "gpu-test",
   "language": "python",
   "name": "gpu-test"
  }
 },
 "nbformat": 4,
 "nbformat_minor": 5
}
