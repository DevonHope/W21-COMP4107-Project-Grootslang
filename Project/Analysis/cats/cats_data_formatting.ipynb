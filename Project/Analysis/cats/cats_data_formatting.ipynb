{
 "cells": [
  {
   "cell_type": "code",
   "execution_count": 1,
   "id": "3b3ce066",
   "metadata": {},
   "outputs": [
    {
     "data": {
      "text/html": [
       "<div>\n",
       "<style scoped>\n",
       "    .dataframe tbody tr th:only-of-type {\n",
       "        vertical-align: middle;\n",
       "    }\n",
       "\n",
       "    .dataframe tbody tr th {\n",
       "        vertical-align: top;\n",
       "    }\n",
       "\n",
       "    .dataframe thead th {\n",
       "        text-align: right;\n",
       "    }\n",
       "</style>\n",
       "<table border=\"1\" class=\"dataframe\">\n",
       "  <thead>\n",
       "    <tr style=\"text-align: right;\">\n",
       "      <th></th>\n",
       "      <th>age</th>\n",
       "      <th>gender</th>\n",
       "      <th>size</th>\n",
       "      <th>coat</th>\n",
       "      <th>breed</th>\n",
       "      <th>image</th>\n",
       "    </tr>\n",
       "  </thead>\n",
       "  <tbody>\n",
       "    <tr>\n",
       "      <th>260</th>\n",
       "      <td>3.0</td>\n",
       "      <td>1.0</td>\n",
       "      <td>2.0</td>\n",
       "      <td>3.0</td>\n",
       "      <td>1.0</td>\n",
       "      <td>American Bobtail/46407834_34198.jpg</td>\n",
       "    </tr>\n",
       "    <tr>\n",
       "      <th>261</th>\n",
       "      <td>3.0</td>\n",
       "      <td>1.0</td>\n",
       "      <td>2.0</td>\n",
       "      <td>3.0</td>\n",
       "      <td>1.0</td>\n",
       "      <td>American Bobtail/46407781_34210.jpg</td>\n",
       "    </tr>\n",
       "    <tr>\n",
       "      <th>264</th>\n",
       "      <td>0.0</td>\n",
       "      <td>0.0</td>\n",
       "      <td>2.0</td>\n",
       "      <td>3.0</td>\n",
       "      <td>1.0</td>\n",
       "      <td>American Bobtail/46330160_41521.jpg</td>\n",
       "    </tr>\n",
       "    <tr>\n",
       "      <th>266</th>\n",
       "      <td>1.0</td>\n",
       "      <td>1.0</td>\n",
       "      <td>1.0</td>\n",
       "      <td>1.0</td>\n",
       "      <td>1.0</td>\n",
       "      <td>American Bobtail/46289156_45141.jpg</td>\n",
       "    </tr>\n",
       "    <tr>\n",
       "      <th>267</th>\n",
       "      <td>3.0</td>\n",
       "      <td>0.0</td>\n",
       "      <td>3.0</td>\n",
       "      <td>3.0</td>\n",
       "      <td>1.0</td>\n",
       "      <td>American Bobtail/46194971_53315.jpg</td>\n",
       "    </tr>\n",
       "    <tr>\n",
       "      <th>...</th>\n",
       "      <td>...</td>\n",
       "      <td>...</td>\n",
       "      <td>...</td>\n",
       "      <td>...</td>\n",
       "      <td>...</td>\n",
       "      <td>...</td>\n",
       "    </tr>\n",
       "    <tr>\n",
       "      <th>67139</th>\n",
       "      <td>1.0</td>\n",
       "      <td>0.0</td>\n",
       "      <td>2.0</td>\n",
       "      <td>3.0</td>\n",
       "      <td>65.0</td>\n",
       "      <td>Tuxedo/43784347_7292.jpg</td>\n",
       "    </tr>\n",
       "    <tr>\n",
       "      <th>67140</th>\n",
       "      <td>1.0</td>\n",
       "      <td>1.0</td>\n",
       "      <td>2.0</td>\n",
       "      <td>3.0</td>\n",
       "      <td>65.0</td>\n",
       "      <td>Tuxedo/43781057_7295.jpg</td>\n",
       "    </tr>\n",
       "    <tr>\n",
       "      <th>67141</th>\n",
       "      <td>0.0</td>\n",
       "      <td>0.0</td>\n",
       "      <td>2.0</td>\n",
       "      <td>3.0</td>\n",
       "      <td>65.0</td>\n",
       "      <td>Tuxedo/43773439_7304.jpg</td>\n",
       "    </tr>\n",
       "    <tr>\n",
       "      <th>67142</th>\n",
       "      <td>3.0</td>\n",
       "      <td>0.0</td>\n",
       "      <td>1.0</td>\n",
       "      <td>3.0</td>\n",
       "      <td>65.0</td>\n",
       "      <td>Tuxedo/43773383_7305.jpg</td>\n",
       "    </tr>\n",
       "    <tr>\n",
       "      <th>67143</th>\n",
       "      <td>0.0</td>\n",
       "      <td>1.0</td>\n",
       "      <td>2.0</td>\n",
       "      <td>2.0</td>\n",
       "      <td>65.0</td>\n",
       "      <td>Tuxedo/43773168_7306.jpg</td>\n",
       "    </tr>\n",
       "  </tbody>\n",
       "</table>\n",
       "<p>37807 rows × 6 columns</p>\n",
       "</div>"
      ],
      "text/plain": [
       "       age  gender  size  coat  breed                                image\n",
       "260    3.0     1.0   2.0   3.0    1.0  American Bobtail/46407834_34198.jpg\n",
       "261    3.0     1.0   2.0   3.0    1.0  American Bobtail/46407781_34210.jpg\n",
       "264    0.0     0.0   2.0   3.0    1.0  American Bobtail/46330160_41521.jpg\n",
       "266    1.0     1.0   1.0   1.0    1.0  American Bobtail/46289156_45141.jpg\n",
       "267    3.0     0.0   3.0   3.0    1.0  American Bobtail/46194971_53315.jpg\n",
       "...    ...     ...   ...   ...    ...                                  ...\n",
       "67139  1.0     0.0   2.0   3.0   65.0             Tuxedo/43784347_7292.jpg\n",
       "67140  1.0     1.0   2.0   3.0   65.0             Tuxedo/43781057_7295.jpg\n",
       "67141  0.0     0.0   2.0   3.0   65.0             Tuxedo/43773439_7304.jpg\n",
       "67142  3.0     0.0   1.0   3.0   65.0             Tuxedo/43773383_7305.jpg\n",
       "67143  0.0     1.0   2.0   2.0   65.0             Tuxedo/43773168_7306.jpg\n",
       "\n",
       "[37807 rows x 6 columns]"
      ]
     },
     "execution_count": 1,
     "metadata": {},
     "output_type": "execute_result"
    }
   ],
   "source": [
    "import pandas as pd\n",
    "import os\n",
    "\n",
    "# read in df\n",
    "fn = 'working_cats/data/breeds_data_final.pkl'\n",
    "breeds = pd.read_pickle(fn)\n",
    "breeds"
   ]
  },
  {
   "cell_type": "code",
   "execution_count": 2,
   "id": "8d1956a3",
   "metadata": {},
   "outputs": [
    {
     "name": "stdout",
     "output_type": "stream",
     "text": [
      "BEFORE CLEAN\n",
      "False    37794\n",
      "True        13\n",
      "Name: image, dtype: int64\n",
      "\n",
      "AFTER CLEAN\n",
      "False    37794\n",
      "Name: image, dtype: int64\n"
     ]
    }
   ],
   "source": [
    "# clean up data\n",
    "#breeds.where(breeds['image'] == 'Torbie/None')\n",
    "print('BEFORE CLEAN')\n",
    "br = breeds['image'].str.contains('None')\n",
    "print(br.value_counts())\n",
    "\n",
    "indexnames = br[ br == True].index\n",
    "breeds.drop(indexnames, inplace=True)\n",
    "\n",
    "print('\\nAFTER CLEAN')\n",
    "br = breeds['image'].str.contains('None')\n",
    "print(br.value_counts())"
   ]
  },
  {
   "cell_type": "code",
   "execution_count": 3,
   "id": "61b6f16a",
   "metadata": {},
   "outputs": [
    {
     "name": "stdout",
     "output_type": "stream",
     "text": [
      "Train shape: (22676, 6)\n",
      "val shape: (7559, 6)\n",
      "test shape: (7559, 6)\n",
      "\n",
      "x_train[2]: Manx/24698761_7126.jpg\n",
      "y_train[2]: 36.0\n",
      "\n",
      "x_test[2]: Tiger/42157409_5044.jpg\n",
      "y_test[2]: 59.0\n",
      "\n",
      "x_val[2]: Tiger/45203452_1522.jpg\n",
      "y_val[2]: 59.0\n",
      "\n",
      "x_train shape: (22676,)\n",
      "y_train shape: (22676,)\n"
     ]
    }
   ],
   "source": [
    "import seaborn as sns\n",
    "import matplotlib.pyplot as plt\n",
    "import numpy as np\n",
    "\n",
    "# split into train, val, test sets\n",
    "train, val, test = np.split(breeds.sample(frac=1, random_state=42),\\\n",
    "                            [int(.6*len(breeds)), int(.8*len(breeds))])\n",
    "\n",
    "print(\"Train shape: \"+str(train.shape))\n",
    "print(\"val shape: \"+str(val.shape))\n",
    "print(\"test shape: \"+str(test.shape))\n",
    "# sets into x and y values\n",
    "# x_train is image data\n",
    "x_train = np.array(train.iloc[:,5])\n",
    "y_train = np.array(train.iloc[:,4])\n",
    "print('\\nx_train[2]: '+str(x_train[2]))\n",
    "print('y_train[2]: '+str(y_train[2]))\n",
    "\n",
    "x_test = np.array(test.iloc[:,5])\n",
    "y_test = np.array(test.iloc[:,4])\n",
    "print('\\nx_test[2]: '+str(x_test[2]))\n",
    "print('y_test[2]: '+str(y_test[2]))\n",
    "\n",
    "x_val = np.array(val.iloc[:,5])\n",
    "y_val = np.array(val.iloc[:,4])\n",
    "print('\\nx_val[2]: '+str(x_val[2]))\n",
    "print('y_val[2]: '+str(y_val[2]))\n",
    "\n",
    "print('\\nx_train shape: '+str(x_train.shape))\n",
    "print('y_train shape: '+str(y_train.shape))"
   ]
  },
  {
   "cell_type": "code",
   "execution_count": 4,
   "id": "52ba4e93",
   "metadata": {},
   "outputs": [
    {
     "name": "stdout",
     "output_type": "stream",
     "text": [
      "\n",
      "Number of breeds: 26\n"
     ]
    },
    {
     "name": "stderr",
     "output_type": "stream",
     "text": [
      "C:\\Users\\devon\\AppData\\Roaming\\Python\\Python38\\site-packages\\seaborn\\_decorators.py:36: FutureWarning: Pass the following variable as a keyword arg: x. From version 0.12, the only valid positional argument will be `data`, and passing other arguments without an explicit keyword will result in an error or misinterpretation.\n",
      "  warnings.warn(\n"
     ]
    },
    {
     "data": {
      "text/plain": [
       "[[Text(0, 0, '1.0'),\n",
       "  Text(1, 0, '3.0'),\n",
       "  Text(2, 0, '7.0'),\n",
       "  Text(3, 0, '9.0'),\n",
       "  Text(4, 0, '13.0'),\n",
       "  Text(5, 0, '21.0'),\n",
       "  Text(6, 0, '22.0'),\n",
       "  Text(7, 0, '23.0'),\n",
       "  Text(8, 0, '24.0'),\n",
       "  Text(9, 0, '25.0'),\n",
       "  Text(10, 0, '28.0'),\n",
       "  Text(11, 0, '30.0'),\n",
       "  Text(12, 0, '35.0'),\n",
       "  Text(13, 0, '36.0'),\n",
       "  Text(14, 0, '44.0'),\n",
       "  Text(15, 0, '47.0'),\n",
       "  Text(16, 0, '48.0'),\n",
       "  Text(17, 0, '51.0'),\n",
       "  Text(18, 0, '55.0'),\n",
       "  Text(19, 0, '58.0'),\n",
       "  Text(20, 0, '59.0'),\n",
       "  Text(21, 0, '61.0'),\n",
       "  Text(22, 0, '62.0'),\n",
       "  Text(23, 0, '63.0'),\n",
       "  Text(24, 0, '64.0'),\n",
       "  Text(25, 0, '65.0')]]"
      ]
     },
     "execution_count": 4,
     "metadata": {},
     "output_type": "execute_result"
    },
    {
     "data": {
      "image/png": "[encoded data removed]",
      "text/plain": [
       "<Figure size 720x504 with 1 Axes>"
      ]
     },
     "metadata": {
      "needs_background": "light"
     },
     "output_type": "display_data"
    }
   ],
   "source": [
    "# number of breeds now\n",
    "br = pd.unique(breeds['breed'])\n",
    "num_breeds = len(br)\n",
    "print('\\nNumber of breeds: '+str(num_breeds))\n",
    "\n",
    "plt.figure(figsize=(10,7))\n",
    "p = sns.countplot(y_train.flatten())\n",
    "p.set(xticklabels=br)"
   ]
  },
  {
   "cell_type": "code",
   "execution_count": 5,
   "id": "1c3aa277",
   "metadata": {},
   "outputs": [],
   "source": [
    "from PIL import Image\n",
    "ar_size = 32\n",
    "\n",
    "# resize func\n",
    "def resize_img(im_path):\n",
    "    # load image\n",
    "    im = Image.open(im_path)\n",
    "    # resize images\n",
    "    im = im.resize((ar_size,ar_size))\n",
    "    # convert to array\n",
    "    im = np.asarray(im)\n",
    "    im = im / 255.0\n",
    "    return im"
   ]
  },
  {
   "cell_type": "code",
   "execution_count": 6,
   "id": "0d354d2e",
   "metadata": {},
   "outputs": [
    {
     "name": "stdout",
     "output_type": "stream",
     "text": [
      "(22676, 32, 32, 3)\n"
     ]
    }
   ],
   "source": [
    "data_dir = '../Datasets/cats/images/'\n",
    "n_train = np.empty((x_train.shape[0], ar_size, ar_size, 3))\n",
    "print(n_train.shape)"
   ]
  },
  {
   "cell_type": "code",
   "execution_count": 7,
   "id": "17c2b9f0",
   "metadata": {},
   "outputs": [
    {
     "name": "stderr",
     "output_type": "stream",
     "text": [
      "100%|██████████| 22676/22676 [01:38<00:00, 229.88it/s]\n"
     ]
    }
   ],
   "source": [
    "from tqdm import trange\n",
    "\n",
    "#newim = resize_img(data_dir+x_train[2])\n",
    "#plt.imshow(newim)\n",
    "#print(newim.shape)\n",
    "\n",
    "#n_train[0] = resize_img(data_dir+x_train[0])\n",
    "#plt.imshow(n_train[0])\n",
    "#print(n_train.shape)\n",
    "\n",
    "# convert x_train to image arrays\n",
    "for i in trange(x_train.shape[0]):\n",
    "    n_train[i] = resize_img(data_dir+x_train[i])"
   ]
  },
  {
   "cell_type": "code",
   "execution_count": 8,
   "id": "151cd271",
   "metadata": {},
   "outputs": [
    {
     "name": "stderr",
     "output_type": "stream",
     "text": [
      "100%|██████████| 7559/7559 [00:31<00:00, 239.81it/s]\n"
     ]
    },
    {
     "name": "stdout",
     "output_type": "stream",
     "text": [
      "(7559, 32, 32, 3)\n"
     ]
    },
    {
     "data": {
      "image/png": "[encoded data removed]",
      "text/plain": [
       "<Figure size 432x288 with 1 Axes>"
      ]
     },
     "metadata": {
      "needs_background": "light"
     },
     "output_type": "display_data"
    }
   ],
   "source": [
    "n_test = np.empty((x_test.shape[0], ar_size, ar_size, 3))\n",
    "# convert x_test to image arrays\n",
    "for i in trange(x_test.shape[0]):\n",
    "    n_test[i] = resize_img(data_dir+x_test[i])\n",
    "    \n",
    "plt.imshow(n_test[0])\n",
    "print(n_test.shape)"
   ]
  },
  {
   "cell_type": "code",
   "execution_count": 9,
   "id": "ae3b10ad",
   "metadata": {},
   "outputs": [
    {
     "name": "stderr",
     "output_type": "stream",
     "text": [
      "100%|██████████| 7559/7559 [00:30<00:00, 249.72it/s]\n"
     ]
    },
    {
     "name": "stdout",
     "output_type": "stream",
     "text": [
      "(7559, 32, 32, 3)\n"
     ]
    },
    {
     "data": {
      "image/png": "[encoded data removed]",
      "text/plain": [
       "<Figure size 432x288 with 1 Axes>"
      ]
     },
     "metadata": {
      "needs_background": "light"
     },
     "output_type": "display_data"
    }
   ],
   "source": [
    "n_val = np.empty((x_val.shape[0], ar_size, ar_size, 3))\n",
    "# convert x_val to image arrays\n",
    "for i in trange(x_val.shape[0]):\n",
    "    # some of the images have a shape (128,128,4), idky\n",
    "    im = resize_img(data_dir+x_val[i])\n",
    "    if (im.shape == n_val[i].shape):\n",
    "        n_val[i] = im\n",
    "    \n",
    "plt.imshow(n_val[0])\n",
    "print(n_val.shape)"
   ]
  },
  {
   "cell_type": "code",
   "execution_count": 10,
   "id": "1ce9dfcb",
   "metadata": {},
   "outputs": [
    {
     "name": "stdout",
     "output_type": "stream",
     "text": [
      "(22676, 32, 32, 3)\n"
     ]
    },
    {
     "data": {
      "image/png": "[encoded data removed]",
      "text/plain": [
       "<Figure size 432x288 with 1 Axes>"
      ]
     },
     "metadata": {
      "needs_background": "light"
     },
     "output_type": "display_data"
    }
   ],
   "source": [
    "plt.imshow(n_train[0])\n",
    "print(n_train.shape)"
   ]
  },
  {
   "cell_type": "code",
   "execution_count": 11,
   "id": "79e99441",
   "metadata": {},
   "outputs": [
    {
     "name": "stdout",
     "output_type": "stream",
     "text": [
      "saved x_train.npy\n",
      "saved x_test.npy\n",
      "saved x_val.npy\n"
     ]
    }
   ],
   "source": [
    "# save image arrays to file\n",
    "# x_train\n",
    "work_dir = 'working_cats/images/'\n",
    "np.save(work_dir+'x_train.npy', n_train)\n",
    "print('saved x_train.npy')\n",
    "np.save(work_dir+'x_test.npy', n_test)\n",
    "print('saved x_test.npy')\n",
    "np.save(work_dir+'x_val.npy', n_val)\n",
    "print('saved x_val.npy')"
   ]
  },
  {
   "cell_type": "code",
   "execution_count": 12,
   "id": "2c18ad1e",
   "metadata": {},
   "outputs": [
    {
     "name": "stdout",
     "output_type": "stream",
     "text": [
      "saved y_train.npy\n",
      "saved y_test.npy\n",
      "saved y_val.npy\n"
     ]
    }
   ],
   "source": [
    "import tensorflow as tf\n",
    "\n",
    "y_train = tf.one_hot(y_train.astype(np.int32), depth=num_breeds)\n",
    "y_test = tf.one_hot(y_test.astype(np.int32), depth=num_breeds)\n",
    "y_val = tf.one_hot(y_val.astype(np.int32), depth=num_breeds)\n",
    "\n",
    "np.save(work_dir+'y_train.npy', y_train)\n",
    "print('saved y_train.npy')\n",
    "np.save(work_dir+'y_test.npy', y_test)\n",
    "print('saved y_test.npy')\n",
    "np.save(work_dir+'y_val.npy', y_val)\n",
    "print('saved y_val.npy')"
   ]
  },
  {
   "cell_type": "code",
   "execution_count": 13,
   "id": "cd75b289",
   "metadata": {},
   "outputs": [
    {
     "name": "stdout",
     "output_type": "stream",
     "text": [
      "(22676,)\n",
      "(22676, 26)\n",
      "(7559,)\n",
      "(7559, 26)\n",
      "(7559,)\n",
      "(7559, 26)\n"
     ]
    }
   ],
   "source": [
    "\n",
    "\n",
    "print(x_train.shape)\n",
    "print(y_train.shape)\n",
    "\n",
    "print(x_test.shape)\n",
    "print(y_test.shape)\n",
    "\n",
    "print(x_val.shape)\n",
    "print(y_val.shape)"
   ]
  }
 ],
 "metadata": {
  "kernelspec": {
   "display_name": "gpu-test",
   "language": "python",
   "name": "gpu-test"
  },
  "language_info": {
   "codemirror_mode": {
    "name": "ipython",
    "version": 3
   },
   "file_extension": ".py",
   "mimetype": "text/x-python",
   "name": "python",
   "nbconvert_exporter": "python",
   "pygments_lexer": "ipython3",
   "version": "3.8.8"
  }
 },
 "nbformat": 4,
 "nbformat_minor": 5
}
