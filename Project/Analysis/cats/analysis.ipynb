{
 "cells": [
  {
   "cell_type": "code",
   "execution_count": 1,
   "metadata": {},
   "outputs": [
    {
     "output_type": "stream",
     "name": "stdout",
     "text": [
      "Default GPU Device: /device:GPU:0\n"
     ]
    }
   ],
   "source": [
    "import matplotlib.pyplot as plt\n",
    "import pandas as pd\n",
    "import tensorflow as tf\n",
    "\n",
    "if tf.test.gpu_device_name():\n",
    "   print('Default GPU Device: {}'.format(tf.test.gpu_device_name()))\n",
    "else:\n",
    "   print(\"Please install GPU version of TF\")"
   ]
  },
  {
   "cell_type": "code",
   "execution_count": 2,
   "metadata": {},
   "outputs": [
    {
     "output_type": "stream",
     "name": "stdout",
     "text": [
      "Shape (67145, 11)\n"
     ]
    },
    {
     "output_type": "execute_result",
     "data": {
      "text/plain": [
       "   Unnamed: 0        id                                                url  \\\n",
       "0           0  46744842  https://www.petfinder.com/cat/arianna-46744842...   \n",
       "1           1  46717321  https://www.petfinder.com/cat/ozzy-46717321/oh...   \n",
       "2           2  46626338  https://www.petfinder.com/cat/zena-46626338/ca...   \n",
       "3           3  46620170  https://www.petfinder.com/cat/mika-46620170/ca...   \n",
       "4           4  46582751  https://www.petfinder.com/cat/ruby-46582751/fl...   \n",
       "\n",
       "  type     age  gender         size   coat       breed  \\\n",
       "0  Cat   Adult  Female       Medium    NaN  Abyssinian   \n",
       "1  Cat   Adult    Male  Extra Large    NaN  Abyssinian   \n",
       "2  Cat  Senior  Female       Medium    NaN  Abyssinian   \n",
       "3  Cat    Baby  Female        Small  Short  Abyssinian   \n",
       "4  Cat   Young  Female       Medium    NaN  Abyssinian   \n",
       "\n",
       "                                              photos  \\\n",
       "0  [{'small': 'https://dl5zpyw5k3jeb.cloudfront.n...   \n",
       "1  [{'small': 'https://dl5zpyw5k3jeb.cloudfront.n...   \n",
       "2  [{'small': 'https://dl5zpyw5k3jeb.cloudfront.n...   \n",
       "3  [{'small': 'https://dl5zpyw5k3jeb.cloudfront.n...   \n",
       "4  [{'small': 'https://dl5zpyw5k3jeb.cloudfront.n...   \n",
       "\n",
       "                                          med_photos  \n",
       "0  ['https://dl5zpyw5k3jeb.cloudfront.net/photos/...  \n",
       "1  ['https://dl5zpyw5k3jeb.cloudfront.net/photos/...  \n",
       "2  ['https://dl5zpyw5k3jeb.cloudfront.net/photos/...  \n",
       "3  ['https://dl5zpyw5k3jeb.cloudfront.net/photos/...  \n",
       "4  ['https://dl5zpyw5k3jeb.cloudfront.net/photos/...  "
      ],
      "text/html": "<div>\n<style scoped>\n    .dataframe tbody tr th:only-of-type {\n        vertical-align: middle;\n    }\n\n    .dataframe tbody tr th {\n        vertical-align: top;\n    }\n\n    .dataframe thead th {\n        text-align: right;\n    }\n</style>\n<table border=\"1\" class=\"dataframe\">\n  <thead>\n    <tr style=\"text-align: right;\">\n      <th></th>\n      <th>Unnamed: 0</th>\n      <th>id</th>\n      <th>url</th>\n      <th>type</th>\n      <th>age</th>\n      <th>gender</th>\n      <th>size</th>\n      <th>coat</th>\n      <th>breed</th>\n      <th>photos</th>\n      <th>med_photos</th>\n    </tr>\n  </thead>\n  <tbody>\n    <tr>\n      <th>0</th>\n      <td>0</td>\n      <td>46744842</td>\n      <td>https://www.petfinder.com/cat/arianna-46744842...</td>\n      <td>Cat</td>\n      <td>Adult</td>\n      <td>Female</td>\n      <td>Medium</td>\n      <td>NaN</td>\n      <td>Abyssinian</td>\n      <td>[{'small': 'https://dl5zpyw5k3jeb.cloudfront.n...</td>\n      <td>['https://dl5zpyw5k3jeb.cloudfront.net/photos/...</td>\n    </tr>\n    <tr>\n      <th>1</th>\n      <td>1</td>\n      <td>46717321</td>\n      <td>https://www.petfinder.com/cat/ozzy-46717321/oh...</td>\n      <td>Cat</td>\n      <td>Adult</td>\n      <td>Male</td>\n      <td>Extra Large</td>\n      <td>NaN</td>\n      <td>Abyssinian</td>\n      <td>[{'small': 'https://dl5zpyw5k3jeb.cloudfront.n...</td>\n      <td>['https://dl5zpyw5k3jeb.cloudfront.net/photos/...</td>\n    </tr>\n    <tr>\n      <th>2</th>\n      <td>2</td>\n      <td>46626338</td>\n      <td>https://www.petfinder.com/cat/zena-46626338/ca...</td>\n      <td>Cat</td>\n      <td>Senior</td>\n      <td>Female</td>\n      <td>Medium</td>\n      <td>NaN</td>\n      <td>Abyssinian</td>\n      <td>[{'small': 'https://dl5zpyw5k3jeb.cloudfront.n...</td>\n      <td>['https://dl5zpyw5k3jeb.cloudfront.net/photos/...</td>\n    </tr>\n    <tr>\n      <th>3</th>\n      <td>3</td>\n      <td>46620170</td>\n      <td>https://www.petfinder.com/cat/mika-46620170/ca...</td>\n      <td>Cat</td>\n      <td>Baby</td>\n      <td>Female</td>\n      <td>Small</td>\n      <td>Short</td>\n      <td>Abyssinian</td>\n      <td>[{'small': 'https://dl5zpyw5k3jeb.cloudfront.n...</td>\n      <td>['https://dl5zpyw5k3jeb.cloudfront.net/photos/...</td>\n    </tr>\n    <tr>\n      <th>4</th>\n      <td>4</td>\n      <td>46582751</td>\n      <td>https://www.petfinder.com/cat/ruby-46582751/fl...</td>\n      <td>Cat</td>\n      <td>Young</td>\n      <td>Female</td>\n      <td>Medium</td>\n      <td>NaN</td>\n      <td>Abyssinian</td>\n      <td>[{'small': 'https://dl5zpyw5k3jeb.cloudfront.n...</td>\n      <td>['https://dl5zpyw5k3jeb.cloudfront.net/photos/...</td>\n    </tr>\n  </tbody>\n</table>\n</div>"
     },
     "metadata": {},
     "execution_count": 2
    }
   ],
   "source": [
    "breeds_data = pd.read_csv('../../Datasets/cats/data/cats.csv')\n",
    "print('Shape', breeds_data.shape)\n",
    "breeds_data.head()"
   ]
  },
  {
   "cell_type": "code",
   "execution_count": 3,
   "metadata": {},
   "outputs": [
    {
     "output_type": "execute_result",
     "data": {
      "text/plain": [
       "Unnamed: 0        0\n",
       "id                0\n",
       "url               0\n",
       "type              0\n",
       "age               0\n",
       "gender            0\n",
       "size              0\n",
       "coat          25133\n",
       "breed             0\n",
       "photos            0\n",
       "med_photos        0\n",
       "dtype: int64"
      ]
     },
     "metadata": {},
     "execution_count": 3
    }
   ],
   "source": [
    "missing_data = breeds_data.isnull().sum()\n",
    "missing_data"
   ]
  },
  {
   "cell_type": "code",
   "execution_count": 4,
   "metadata": {},
   "outputs": [
    {
     "output_type": "stream",
     "name": "stdout",
     "text": [
      "25133\n738595\n3.402812095938911% is missing\n"
     ]
    }
   ],
   "source": [
    "import numpy as np \n",
    "\n",
    "# Percentage of missing values\n",
    "print(missing_data.sum())\n",
    "print(np.product(breeds_data.shape))\n",
    "percent_missing = (missing_data.sum()/np.product(breeds_data.shape)) * 100\n",
    "print(f'{percent_missing}% is missing')"
   ]
  },
  {
   "cell_type": "code",
   "execution_count": 5,
   "metadata": {},
   "outputs": [
    {
     "output_type": "execute_result",
     "data": {
      "text/plain": [
       "       Unnamed: 0        id  \\\n",
       "3               3  46620170   \n",
       "7               7  46463847   \n",
       "11             11  46305208   \n",
       "12             12  46301725   \n",
       "13             13  46293180   \n",
       "...           ...       ...   \n",
       "67140       70984  43781057   \n",
       "67141       70985  43773439   \n",
       "67142       70986  43773383   \n",
       "67143       70987  43773168   \n",
       "67144       70988  46336858   \n",
       "\n",
       "                                                     url type     age  gender  \\\n",
       "3      https://www.petfinder.com/cat/mika-46620170/ca...  Cat    Baby  Female   \n",
       "7      https://www.petfinder.com/cat/kingston-4646384...  Cat   Adult    Male   \n",
       "11     https://www.petfinder.com/cat/quinn-46305208/m...  Cat  Senior    Male   \n",
       "12     https://www.petfinder.com/cat/tazmania-fostere...  Cat   Adult  Female   \n",
       "13     https://www.petfinder.com/cat/nutmeg-46293180/...  Cat   Young    Male   \n",
       "...                                                  ...  ...     ...     ...   \n",
       "67140  https://www.petfinder.com/cat/jasper-43781057/...  Cat    Baby    Male   \n",
       "67141  https://www.petfinder.com/cat/missy-43773439/o...  Cat   Adult  Female   \n",
       "67142  https://www.petfinder.com/cat/bandit-43773383/...  Cat   Young  Female   \n",
       "67143  https://www.petfinder.com/cat/maxy-43773168/ut...  Cat   Adult    Male   \n",
       "67144  https://www.petfinder.com/cat/rolo-46336858/oh...  Cat    Baby    Male   \n",
       "\n",
       "         size    coat           breed  \\\n",
       "3       Small   Short      Abyssinian   \n",
       "7      Medium   Short      Abyssinian   \n",
       "11     Medium   Short      Abyssinian   \n",
       "12     Medium   Short      Abyssinian   \n",
       "13      Small   Short      Abyssinian   \n",
       "...       ...     ...             ...   \n",
       "67140  Medium   Short          Tuxedo   \n",
       "67141  Medium   Short          Tuxedo   \n",
       "67142   Large   Short          Tuxedo   \n",
       "67143  Medium  Medium          Tuxedo   \n",
       "67144   Small  Medium  York Chocolate   \n",
       "\n",
       "                                                  photos  \\\n",
       "3      [{'small': 'https://dl5zpyw5k3jeb.cloudfront.n...   \n",
       "7      [{'small': 'https://dl5zpyw5k3jeb.cloudfront.n...   \n",
       "11     [{'small': 'https://dl5zpyw5k3jeb.cloudfront.n...   \n",
       "12     [{'small': 'https://dl5zpyw5k3jeb.cloudfront.n...   \n",
       "13     [{'small': 'https://dl5zpyw5k3jeb.cloudfront.n...   \n",
       "...                                                  ...   \n",
       "67140  [{'small': 'https://dl5zpyw5k3jeb.cloudfront.n...   \n",
       "67141  [{'small': 'https://dl5zpyw5k3jeb.cloudfront.n...   \n",
       "67142  [{'small': 'https://dl5zpyw5k3jeb.cloudfront.n...   \n",
       "67143  [{'small': 'https://dl5zpyw5k3jeb.cloudfront.n...   \n",
       "67144  [{'small': 'https://dl5zpyw5k3jeb.cloudfront.n...   \n",
       "\n",
       "                                              med_photos  \n",
       "3      ['https://dl5zpyw5k3jeb.cloudfront.net/photos/...  \n",
       "7      ['https://dl5zpyw5k3jeb.cloudfront.net/photos/...  \n",
       "11     ['https://dl5zpyw5k3jeb.cloudfront.net/photos/...  \n",
       "12     ['https://dl5zpyw5k3jeb.cloudfront.net/photos/...  \n",
       "13     ['https://dl5zpyw5k3jeb.cloudfront.net/photos/...  \n",
       "...                                                  ...  \n",
       "67140  ['https://dl5zpyw5k3jeb.cloudfront.net/photos/...  \n",
       "67141  ['https://dl5zpyw5k3jeb.cloudfront.net/photos/...  \n",
       "67142  ['https://dl5zpyw5k3jeb.cloudfront.net/photos/...  \n",
       "67143  ['https://dl5zpyw5k3jeb.cloudfront.net/photos/...  \n",
       "67144  ['https://dl5zpyw5k3jeb.cloudfront.net/photos/...  \n",
       "\n",
       "[42012 rows x 11 columns]"
      ],
      "text/html": "<div>\n<style scoped>\n    .dataframe tbody tr th:only-of-type {\n        vertical-align: middle;\n    }\n\n    .dataframe tbody tr th {\n        vertical-align: top;\n    }\n\n    .dataframe thead th {\n        text-align: right;\n    }\n</style>\n<table border=\"1\" class=\"dataframe\">\n  <thead>\n    <tr style=\"text-align: right;\">\n      <th></th>\n      <th>Unnamed: 0</th>\n      <th>id</th>\n      <th>url</th>\n      <th>type</th>\n      <th>age</th>\n      <th>gender</th>\n      <th>size</th>\n      <th>coat</th>\n      <th>breed</th>\n      <th>photos</th>\n      <th>med_photos</th>\n    </tr>\n  </thead>\n  <tbody>\n    <tr>\n      <th>3</th>\n      <td>3</td>\n      <td>46620170</td>\n      <td>https://www.petfinder.com/cat/mika-46620170/ca...</td>\n      <td>Cat</td>\n      <td>Baby</td>\n      <td>Female</td>\n      <td>Small</td>\n      <td>Short</td>\n      <td>Abyssinian</td>\n      <td>[{'small': 'https://dl5zpyw5k3jeb.cloudfront.n...</td>\n      <td>['https://dl5zpyw5k3jeb.cloudfront.net/photos/...</td>\n    </tr>\n    <tr>\n      <th>7</th>\n      <td>7</td>\n      <td>46463847</td>\n      <td>https://www.petfinder.com/cat/kingston-4646384...</td>\n      <td>Cat</td>\n      <td>Adult</td>\n      <td>Male</td>\n      <td>Medium</td>\n      <td>Short</td>\n      <td>Abyssinian</td>\n      <td>[{'small': 'https://dl5zpyw5k3jeb.cloudfront.n...</td>\n      <td>['https://dl5zpyw5k3jeb.cloudfront.net/photos/...</td>\n    </tr>\n    <tr>\n      <th>11</th>\n      <td>11</td>\n      <td>46305208</td>\n      <td>https://www.petfinder.com/cat/quinn-46305208/m...</td>\n      <td>Cat</td>\n      <td>Senior</td>\n      <td>Male</td>\n      <td>Medium</td>\n      <td>Short</td>\n      <td>Abyssinian</td>\n      <td>[{'small': 'https://dl5zpyw5k3jeb.cloudfront.n...</td>\n      <td>['https://dl5zpyw5k3jeb.cloudfront.net/photos/...</td>\n    </tr>\n    <tr>\n      <th>12</th>\n      <td>12</td>\n      <td>46301725</td>\n      <td>https://www.petfinder.com/cat/tazmania-fostere...</td>\n      <td>Cat</td>\n      <td>Adult</td>\n      <td>Female</td>\n      <td>Medium</td>\n      <td>Short</td>\n      <td>Abyssinian</td>\n      <td>[{'small': 'https://dl5zpyw5k3jeb.cloudfront.n...</td>\n      <td>['https://dl5zpyw5k3jeb.cloudfront.net/photos/...</td>\n    </tr>\n    <tr>\n      <th>13</th>\n      <td>13</td>\n      <td>46293180</td>\n      <td>https://www.petfinder.com/cat/nutmeg-46293180/...</td>\n      <td>Cat</td>\n      <td>Young</td>\n      <td>Male</td>\n      <td>Small</td>\n      <td>Short</td>\n      <td>Abyssinian</td>\n      <td>[{'small': 'https://dl5zpyw5k3jeb.cloudfront.n...</td>\n      <td>['https://dl5zpyw5k3jeb.cloudfront.net/photos/...</td>\n    </tr>\n    <tr>\n      <th>...</th>\n      <td>...</td>\n      <td>...</td>\n      <td>...</td>\n      <td>...</td>\n      <td>...</td>\n      <td>...</td>\n      <td>...</td>\n      <td>...</td>\n      <td>...</td>\n      <td>...</td>\n      <td>...</td>\n    </tr>\n    <tr>\n      <th>67140</th>\n      <td>70984</td>\n      <td>43781057</td>\n      <td>https://www.petfinder.com/cat/jasper-43781057/...</td>\n      <td>Cat</td>\n      <td>Baby</td>\n      <td>Male</td>\n      <td>Medium</td>\n      <td>Short</td>\n      <td>Tuxedo</td>\n      <td>[{'small': 'https://dl5zpyw5k3jeb.cloudfront.n...</td>\n      <td>['https://dl5zpyw5k3jeb.cloudfront.net/photos/...</td>\n    </tr>\n    <tr>\n      <th>67141</th>\n      <td>70985</td>\n      <td>43773439</td>\n      <td>https://www.petfinder.com/cat/missy-43773439/o...</td>\n      <td>Cat</td>\n      <td>Adult</td>\n      <td>Female</td>\n      <td>Medium</td>\n      <td>Short</td>\n      <td>Tuxedo</td>\n      <td>[{'small': 'https://dl5zpyw5k3jeb.cloudfront.n...</td>\n      <td>['https://dl5zpyw5k3jeb.cloudfront.net/photos/...</td>\n    </tr>\n    <tr>\n      <th>67142</th>\n      <td>70986</td>\n      <td>43773383</td>\n      <td>https://www.petfinder.com/cat/bandit-43773383/...</td>\n      <td>Cat</td>\n      <td>Young</td>\n      <td>Female</td>\n      <td>Large</td>\n      <td>Short</td>\n      <td>Tuxedo</td>\n      <td>[{'small': 'https://dl5zpyw5k3jeb.cloudfront.n...</td>\n      <td>['https://dl5zpyw5k3jeb.cloudfront.net/photos/...</td>\n    </tr>\n    <tr>\n      <th>67143</th>\n      <td>70987</td>\n      <td>43773168</td>\n      <td>https://www.petfinder.com/cat/maxy-43773168/ut...</td>\n      <td>Cat</td>\n      <td>Adult</td>\n      <td>Male</td>\n      <td>Medium</td>\n      <td>Medium</td>\n      <td>Tuxedo</td>\n      <td>[{'small': 'https://dl5zpyw5k3jeb.cloudfront.n...</td>\n      <td>['https://dl5zpyw5k3jeb.cloudfront.net/photos/...</td>\n    </tr>\n    <tr>\n      <th>67144</th>\n      <td>70988</td>\n      <td>46336858</td>\n      <td>https://www.petfinder.com/cat/rolo-46336858/oh...</td>\n      <td>Cat</td>\n      <td>Baby</td>\n      <td>Male</td>\n      <td>Small</td>\n      <td>Medium</td>\n      <td>York Chocolate</td>\n      <td>[{'small': 'https://dl5zpyw5k3jeb.cloudfront.n...</td>\n      <td>['https://dl5zpyw5k3jeb.cloudfront.net/photos/...</td>\n    </tr>\n  </tbody>\n</table>\n<p>42012 rows × 11 columns</p>\n</div>"
     },
     "metadata": {},
     "execution_count": 5
    }
   ],
   "source": [
    "# We notice that the coat column contains some NaN\n",
    "# Option 1 - Dropna *\n",
    "# Option 2 - Fillna\n",
    "\n",
    "breeds_data_dropped = breeds_data.dropna()\n",
    "breeds_data_dropped"
   ]
  },
  {
   "cell_type": "code",
   "execution_count": 6,
   "metadata": {},
   "outputs": [
    {
     "output_type": "stream",
     "name": "stdout",
     "text": [
      "<class 'pandas.core.frame.DataFrame'>\nInt64Index: 42012 entries, 3 to 67144\nData columns (total 11 columns):\n #   Column      Non-Null Count  Dtype \n---  ------      --------------  ----- \n 0   Unnamed: 0  42012 non-null  int64 \n 1   id          42012 non-null  int64 \n 2   url         42012 non-null  object\n 3   type        42012 non-null  object\n 4   age         42012 non-null  object\n 5   gender      42012 non-null  object\n 6   size        42012 non-null  object\n 7   coat        42012 non-null  object\n 8   breed       42012 non-null  object\n 9   photos      42012 non-null  object\n 10  med_photos  42012 non-null  object\ndtypes: int64(2), object(9)\nmemory usage: 3.8+ MB\n"
     ]
    }
   ],
   "source": [
    "breeds_data_dropped.info()"
   ]
  },
  {
   "cell_type": "code",
   "execution_count": 7,
   "metadata": {},
   "outputs": [],
   "source": [
    "categorical_features = ['age', 'gender', 'size', 'coat', 'breed']"
   ]
  },
  {
   "cell_type": "code",
   "execution_count": 8,
   "metadata": {},
   "outputs": [
    {
     "output_type": "stream",
     "name": "stdout",
     "text": [
      "\nCoat with 100 or more images\n"
     ]
    },
    {
     "output_type": "execute_result",
     "data": {
      "text/plain": [
       "Short     26439\n",
       "Long       9306\n",
       "Medium     6207\n",
       "Name: coat, dtype: int64"
      ]
     },
     "metadata": {},
     "execution_count": 8
    }
   ],
   "source": [
    "# We found that Hairless coat contain very little trianing examples\n",
    "# drop breeds with training samples under\n",
    "\n",
    "# could drop the breeds between 13.2 and 19.8, or use the breeds with 500 or more images\n",
    "# print(breeds_data_dropped['breed'].value_counts(ascending=False, bins = 10))\n",
    "\n",
    "breeds_data_filtered = breeds_data_dropped.groupby('coat').filter(lambda x : len(x) >= 100)\n",
    "\n",
    "print('\\nCoat with 100 or more images')\n",
    "breeds_data_filtered['coat'].value_counts(ascending=False)"
   ]
  },
  {
   "cell_type": "code",
   "execution_count": 10,
   "metadata": {},
   "outputs": [],
   "source": [
    "from sklearn.preprocessing import OrdinalEncoder\n",
    "ordinal_encoder = OrdinalEncoder()"
   ]
  },
  {
   "cell_type": "code",
   "execution_count": 11,
   "metadata": {},
   "outputs": [
    {
     "output_type": "execute_result",
     "data": {
      "text/plain": [
       "[array(['Adult', 'Baby', 'Senior', 'Young'], dtype=object),\n",
       " array(['Female', 'Male'], dtype=object),\n",
       " array(['Extra Large', 'Large', 'Medium', 'Small'], dtype=object),\n",
       " array(['Long', 'Medium', 'Short'], dtype=object),\n",
       " array(['Abyssinian', 'American Bobtail', 'American Curl',\n",
       "        'American Shorthair', 'American Wirehair', 'Applehead Siamese',\n",
       "        'Balinese', 'Bengal', 'Birman', 'Bombay', 'British Shorthair',\n",
       "        'Burmese', 'Burmilla', 'Calico', 'Canadian Hairless', 'Chartreux',\n",
       "        'Chausie', 'Chinchilla', 'Cornish Rex', 'Cymric', 'Devon Rex',\n",
       "        'Dilute Calico', 'Dilute Tortoiseshell', 'Domestic Long Hair',\n",
       "        'Domestic Medium Hair', 'Domestic Short Hair', 'Egyptian Mau',\n",
       "        'Exotic Shorthair', 'Extra-Toes Cat - Hemingway Polydactyl',\n",
       "        'Havana', 'Himalayan', 'Japanese Bobtail', 'Javanese', 'Korat',\n",
       "        'LaPerm', 'Maine Coon', 'Manx', 'Munchkin', 'Nebelung',\n",
       "        'Norwegian Forest Cat', 'Ocicat', 'Oriental Long Hair',\n",
       "        'Oriental Short Hair', 'Oriental Tabby', 'Persian', 'Pixiebob',\n",
       "        'Ragamuffin', 'Ragdoll', 'Russian Blue', 'Scottish Fold',\n",
       "        'Selkirk Rex', 'Siamese', 'Siberian', 'Silver', 'Singapura',\n",
       "        'Snowshoe', 'Somali', 'Sphynx - Hairless Cat', 'Tabby', 'Tiger',\n",
       "        'Tonkinese', 'Torbie', 'Tortoiseshell', 'Turkish Angora',\n",
       "        'Turkish Van', 'Tuxedo', 'York Chocolate'], dtype=object)]"
      ]
     },
     "metadata": {},
     "execution_count": 11
    }
   ],
   "source": [
    "cats_cat_encoded = ordinal_encoder.fit_transform(breeds_data_filtered[categorical_features])\n",
    "ordinal_encoder.categories_"
   ]
  },
  {
   "cell_type": "code",
   "execution_count": 14,
   "metadata": {},
   "outputs": [
    {
     "output_type": "execute_result",
     "data": {
      "text/plain": [
       "       Unnamed: 0        id  \\\n",
       "3               3  46620170   \n",
       "7               7  46463847   \n",
       "11             11  46305208   \n",
       "12             12  46301725   \n",
       "13             13  46293180   \n",
       "...           ...       ...   \n",
       "67140       70984  43781057   \n",
       "67141       70985  43773439   \n",
       "67142       70986  43773383   \n",
       "67143       70987  43773168   \n",
       "67144       70988  46336858   \n",
       "\n",
       "                                                     url type  age  gender  \\\n",
       "3      https://www.petfinder.com/cat/mika-46620170/ca...  Cat  1.0     0.0   \n",
       "7      https://www.petfinder.com/cat/kingston-4646384...  Cat  0.0     1.0   \n",
       "11     https://www.petfinder.com/cat/quinn-46305208/m...  Cat  2.0     1.0   \n",
       "12     https://www.petfinder.com/cat/tazmania-fostere...  Cat  0.0     0.0   \n",
       "13     https://www.petfinder.com/cat/nutmeg-46293180/...  Cat  3.0     1.0   \n",
       "...                                                  ...  ...  ...     ...   \n",
       "67140  https://www.petfinder.com/cat/jasper-43781057/...  Cat  1.0     1.0   \n",
       "67141  https://www.petfinder.com/cat/missy-43773439/o...  Cat  0.0     0.0   \n",
       "67142  https://www.petfinder.com/cat/bandit-43773383/...  Cat  3.0     0.0   \n",
       "67143  https://www.petfinder.com/cat/maxy-43773168/ut...  Cat  0.0     1.0   \n",
       "67144  https://www.petfinder.com/cat/rolo-46336858/oh...  Cat  1.0     1.0   \n",
       "\n",
       "       size  coat  breed                                             photos  \\\n",
       "3       3.0   2.0    0.0  [{'small': 'https://dl5zpyw5k3jeb.cloudfront.n...   \n",
       "7       2.0   2.0    0.0  [{'small': 'https://dl5zpyw5k3jeb.cloudfront.n...   \n",
       "11      2.0   2.0    0.0  [{'small': 'https://dl5zpyw5k3jeb.cloudfront.n...   \n",
       "12      2.0   2.0    0.0  [{'small': 'https://dl5zpyw5k3jeb.cloudfront.n...   \n",
       "13      3.0   2.0    0.0  [{'small': 'https://dl5zpyw5k3jeb.cloudfront.n...   \n",
       "...     ...   ...    ...                                                ...   \n",
       "67140   2.0   2.0   65.0  [{'small': 'https://dl5zpyw5k3jeb.cloudfront.n...   \n",
       "67141   2.0   2.0   65.0  [{'small': 'https://dl5zpyw5k3jeb.cloudfront.n...   \n",
       "67142   1.0   2.0   65.0  [{'small': 'https://dl5zpyw5k3jeb.cloudfront.n...   \n",
       "67143   2.0   1.0   65.0  [{'small': 'https://dl5zpyw5k3jeb.cloudfront.n...   \n",
       "67144   3.0   1.0   66.0  [{'small': 'https://dl5zpyw5k3jeb.cloudfront.n...   \n",
       "\n",
       "                                              med_photos  \n",
       "3      ['https://dl5zpyw5k3jeb.cloudfront.net/photos/...  \n",
       "7      ['https://dl5zpyw5k3jeb.cloudfront.net/photos/...  \n",
       "11     ['https://dl5zpyw5k3jeb.cloudfront.net/photos/...  \n",
       "12     ['https://dl5zpyw5k3jeb.cloudfront.net/photos/...  \n",
       "13     ['https://dl5zpyw5k3jeb.cloudfront.net/photos/...  \n",
       "...                                                  ...  \n",
       "67140  ['https://dl5zpyw5k3jeb.cloudfront.net/photos/...  \n",
       "67141  ['https://dl5zpyw5k3jeb.cloudfront.net/photos/...  \n",
       "67142  ['https://dl5zpyw5k3jeb.cloudfront.net/photos/...  \n",
       "67143  ['https://dl5zpyw5k3jeb.cloudfront.net/photos/...  \n",
       "67144  ['https://dl5zpyw5k3jeb.cloudfront.net/photos/...  \n",
       "\n",
       "[41952 rows x 11 columns]"
      ],
      "text/html": "<div>\n<style scoped>\n    .dataframe tbody tr th:only-of-type {\n        vertical-align: middle;\n    }\n\n    .dataframe tbody tr th {\n        vertical-align: top;\n    }\n\n    .dataframe thead th {\n        text-align: right;\n    }\n</style>\n<table border=\"1\" class=\"dataframe\">\n  <thead>\n    <tr style=\"text-align: right;\">\n      <th></th>\n      <th>Unnamed: 0</th>\n      <th>id</th>\n      <th>url</th>\n      <th>type</th>\n      <th>age</th>\n      <th>gender</th>\n      <th>size</th>\n      <th>coat</th>\n      <th>breed</th>\n      <th>photos</th>\n      <th>med_photos</th>\n    </tr>\n  </thead>\n  <tbody>\n    <tr>\n      <th>3</th>\n      <td>3</td>\n      <td>46620170</td>\n      <td>https://www.petfinder.com/cat/mika-46620170/ca...</td>\n      <td>Cat</td>\n      <td>1.0</td>\n      <td>0.0</td>\n      <td>3.0</td>\n      <td>2.0</td>\n      <td>0.0</td>\n      <td>[{'small': 'https://dl5zpyw5k3jeb.cloudfront.n...</td>\n      <td>['https://dl5zpyw5k3jeb.cloudfront.net/photos/...</td>\n    </tr>\n    <tr>\n      <th>7</th>\n      <td>7</td>\n      <td>46463847</td>\n      <td>https://www.petfinder.com/cat/kingston-4646384...</td>\n      <td>Cat</td>\n      <td>0.0</td>\n      <td>1.0</td>\n      <td>2.0</td>\n      <td>2.0</td>\n      <td>0.0</td>\n      <td>[{'small': 'https://dl5zpyw5k3jeb.cloudfront.n...</td>\n      <td>['https://dl5zpyw5k3jeb.cloudfront.net/photos/...</td>\n    </tr>\n    <tr>\n      <th>11</th>\n      <td>11</td>\n      <td>46305208</td>\n      <td>https://www.petfinder.com/cat/quinn-46305208/m...</td>\n      <td>Cat</td>\n      <td>2.0</td>\n      <td>1.0</td>\n      <td>2.0</td>\n      <td>2.0</td>\n      <td>0.0</td>\n      <td>[{'small': 'https://dl5zpyw5k3jeb.cloudfront.n...</td>\n      <td>['https://dl5zpyw5k3jeb.cloudfront.net/photos/...</td>\n    </tr>\n    <tr>\n      <th>12</th>\n      <td>12</td>\n      <td>46301725</td>\n      <td>https://www.petfinder.com/cat/tazmania-fostere...</td>\n      <td>Cat</td>\n      <td>0.0</td>\n      <td>0.0</td>\n      <td>2.0</td>\n      <td>2.0</td>\n      <td>0.0</td>\n      <td>[{'small': 'https://dl5zpyw5k3jeb.cloudfront.n...</td>\n      <td>['https://dl5zpyw5k3jeb.cloudfront.net/photos/...</td>\n    </tr>\n    <tr>\n      <th>13</th>\n      <td>13</td>\n      <td>46293180</td>\n      <td>https://www.petfinder.com/cat/nutmeg-46293180/...</td>\n      <td>Cat</td>\n      <td>3.0</td>\n      <td>1.0</td>\n      <td>3.0</td>\n      <td>2.0</td>\n      <td>0.0</td>\n      <td>[{'small': 'https://dl5zpyw5k3jeb.cloudfront.n...</td>\n      <td>['https://dl5zpyw5k3jeb.cloudfront.net/photos/...</td>\n    </tr>\n    <tr>\n      <th>...</th>\n      <td>...</td>\n      <td>...</td>\n      <td>...</td>\n      <td>...</td>\n      <td>...</td>\n      <td>...</td>\n      <td>...</td>\n      <td>...</td>\n      <td>...</td>\n      <td>...</td>\n      <td>...</td>\n    </tr>\n    <tr>\n      <th>67140</th>\n      <td>70984</td>\n      <td>43781057</td>\n      <td>https://www.petfinder.com/cat/jasper-43781057/...</td>\n      <td>Cat</td>\n      <td>1.0</td>\n      <td>1.0</td>\n      <td>2.0</td>\n      <td>2.0</td>\n      <td>65.0</td>\n      <td>[{'small': 'https://dl5zpyw5k3jeb.cloudfront.n...</td>\n      <td>['https://dl5zpyw5k3jeb.cloudfront.net/photos/...</td>\n    </tr>\n    <tr>\n      <th>67141</th>\n      <td>70985</td>\n      <td>43773439</td>\n      <td>https://www.petfinder.com/cat/missy-43773439/o...</td>\n      <td>Cat</td>\n      <td>0.0</td>\n      <td>0.0</td>\n      <td>2.0</td>\n      <td>2.0</td>\n      <td>65.0</td>\n      <td>[{'small': 'https://dl5zpyw5k3jeb.cloudfront.n...</td>\n      <td>['https://dl5zpyw5k3jeb.cloudfront.net/photos/...</td>\n    </tr>\n    <tr>\n      <th>67142</th>\n      <td>70986</td>\n      <td>43773383</td>\n      <td>https://www.petfinder.com/cat/bandit-43773383/...</td>\n      <td>Cat</td>\n      <td>3.0</td>\n      <td>0.0</td>\n      <td>1.0</td>\n      <td>2.0</td>\n      <td>65.0</td>\n      <td>[{'small': 'https://dl5zpyw5k3jeb.cloudfront.n...</td>\n      <td>['https://dl5zpyw5k3jeb.cloudfront.net/photos/...</td>\n    </tr>\n    <tr>\n      <th>67143</th>\n      <td>70987</td>\n      <td>43773168</td>\n      <td>https://www.petfinder.com/cat/maxy-43773168/ut...</td>\n      <td>Cat</td>\n      <td>0.0</td>\n      <td>1.0</td>\n      <td>2.0</td>\n      <td>1.0</td>\n      <td>65.0</td>\n      <td>[{'small': 'https://dl5zpyw5k3jeb.cloudfront.n...</td>\n      <td>['https://dl5zpyw5k3jeb.cloudfront.net/photos/...</td>\n    </tr>\n    <tr>\n      <th>67144</th>\n      <td>70988</td>\n      <td>46336858</td>\n      <td>https://www.petfinder.com/cat/rolo-46336858/oh...</td>\n      <td>Cat</td>\n      <td>1.0</td>\n      <td>1.0</td>\n      <td>3.0</td>\n      <td>1.0</td>\n      <td>66.0</td>\n      <td>[{'small': 'https://dl5zpyw5k3jeb.cloudfront.n...</td>\n      <td>['https://dl5zpyw5k3jeb.cloudfront.net/photos/...</td>\n    </tr>\n  </tbody>\n</table>\n<p>41952 rows × 11 columns</p>\n</div>"
     },
     "metadata": {},
     "execution_count": 14
    }
   ],
   "source": [
    "breeds_data_encoded = breeds_data_filtered.copy()\n",
    "breeds_data_encoded[categorical_features] = cats_cat_encoded\n",
    "breeds_data_encoded"
   ]
  },
  {
   "cell_type": "code",
   "execution_count": 16,
   "metadata": {},
   "outputs": [
    {
     "output_type": "execute_result",
     "data": {
      "text/plain": [
       "         Unnamed: 0            id           age        gender          size  \\\n",
       "count  41952.000000  4.195200e+04  41952.000000  41952.000000  41952.000000   \n",
       "mean   36988.237009  4.030391e+07      1.147359      0.391972      2.042024   \n",
       "std    21152.674312  6.995306e+06      1.139221      0.488196      0.622933   \n",
       "min        3.000000  1.527494e+07      0.000000      0.000000      0.000000   \n",
       "25%    17693.250000  3.601639e+07      0.000000      0.000000      2.000000   \n",
       "50%    38974.500000  4.331835e+07      1.000000      0.000000      2.000000   \n",
       "75%    55802.750000  4.592163e+07      2.000000      1.000000      2.000000   \n",
       "max    70988.000000  4.680663e+07      3.000000      1.000000      3.000000   \n",
       "\n",
       "               coat         breed  \n",
       "count  41952.000000  41952.000000  \n",
       "mean       1.408395     34.466867  \n",
       "std        0.827813     19.747649  \n",
       "min        0.000000      0.000000  \n",
       "25%        1.000000     21.000000  \n",
       "50%        2.000000     35.000000  \n",
       "75%        2.000000     51.000000  \n",
       "max        2.000000     66.000000  "
      ],
      "text/html": "<div>\n<style scoped>\n    .dataframe tbody tr th:only-of-type {\n        vertical-align: middle;\n    }\n\n    .dataframe tbody tr th {\n        vertical-align: top;\n    }\n\n    .dataframe thead th {\n        text-align: right;\n    }\n</style>\n<table border=\"1\" class=\"dataframe\">\n  <thead>\n    <tr style=\"text-align: right;\">\n      <th></th>\n      <th>Unnamed: 0</th>\n      <th>id</th>\n      <th>age</th>\n      <th>gender</th>\n      <th>size</th>\n      <th>coat</th>\n      <th>breed</th>\n    </tr>\n  </thead>\n  <tbody>\n    <tr>\n      <th>count</th>\n      <td>41952.000000</td>\n      <td>4.195200e+04</td>\n      <td>41952.000000</td>\n      <td>41952.000000</td>\n      <td>41952.000000</td>\n      <td>41952.000000</td>\n      <td>41952.000000</td>\n    </tr>\n    <tr>\n      <th>mean</th>\n      <td>36988.237009</td>\n      <td>4.030391e+07</td>\n      <td>1.147359</td>\n      <td>0.391972</td>\n      <td>2.042024</td>\n      <td>1.408395</td>\n      <td>34.466867</td>\n    </tr>\n    <tr>\n      <th>std</th>\n      <td>21152.674312</td>\n      <td>6.995306e+06</td>\n      <td>1.139221</td>\n      <td>0.488196</td>\n      <td>0.622933</td>\n      <td>0.827813</td>\n      <td>19.747649</td>\n    </tr>\n    <tr>\n      <th>min</th>\n      <td>3.000000</td>\n      <td>1.527494e+07</td>\n      <td>0.000000</td>\n      <td>0.000000</td>\n      <td>0.000000</td>\n      <td>0.000000</td>\n      <td>0.000000</td>\n    </tr>\n    <tr>\n      <th>25%</th>\n      <td>17693.250000</td>\n      <td>3.601639e+07</td>\n      <td>0.000000</td>\n      <td>0.000000</td>\n      <td>2.000000</td>\n      <td>1.000000</td>\n      <td>21.000000</td>\n    </tr>\n    <tr>\n      <th>50%</th>\n      <td>38974.500000</td>\n      <td>4.331835e+07</td>\n      <td>1.000000</td>\n      <td>0.000000</td>\n      <td>2.000000</td>\n      <td>2.000000</td>\n      <td>35.000000</td>\n    </tr>\n    <tr>\n      <th>75%</th>\n      <td>55802.750000</td>\n      <td>4.592163e+07</td>\n      <td>2.000000</td>\n      <td>1.000000</td>\n      <td>2.000000</td>\n      <td>2.000000</td>\n      <td>51.000000</td>\n    </tr>\n    <tr>\n      <th>max</th>\n      <td>70988.000000</td>\n      <td>4.680663e+07</td>\n      <td>3.000000</td>\n      <td>1.000000</td>\n      <td>3.000000</td>\n      <td>2.000000</td>\n      <td>66.000000</td>\n    </tr>\n  </tbody>\n</table>\n</div>"
     },
     "metadata": {},
     "execution_count": 16
    }
   ],
   "source": [
    "breeds_data_encoded.describe()"
   ]
  },
  {
   "cell_type": "code",
   "execution_count": 17,
   "metadata": {
    "scrolled": true
   },
   "outputs": [
    {
     "output_type": "stream",
     "name": "stdout",
     "text": [
      "1.0    15462\n0.0    14965\n3.0     9622\n2.0     1903\nName: age, dtype: int64\n\n0.0    25508\n1.0    16444\nName: gender, dtype: int64\n\n2.0    27264\n3.0     8503\n1.0     5630\n0.0      555\nName: size, dtype: int64\n\n2.0    26439\n0.0     9306\n1.0     6207\nName: coat, dtype: int64\n\n44.0    3101\n3.0     2311\n21.0    2256\n22.0    2131\n23.0    1944\n        ... \n19.0      11\n12.0       6\n17.0       3\n66.0       1\n14.0       1\nName: breed, Length: 67, dtype: int64\n\n"
     ]
    }
   ],
   "source": [
    "for i in range(4,9):\n",
    "    print(breeds_data_encoded.iloc[:, i].value_counts())\n",
    "    print()"
   ]
  },
  {
   "cell_type": "code",
   "execution_count": 18,
   "metadata": {},
   "outputs": [],
   "source": [
    "def get_cat_string(cat, value):\n",
    "    if(cat == 'age'):\n",
    "        return ordinal_encoder.categories_[0][int(value)]\n",
    "    elif(cat == 'gender'):\n",
    "        return ordinal_encoder.categories_[1][int(value)]\n",
    "    elif(cat == 'size'):\n",
    "        return ordinal_encoder.categories_[2][int(value)]\n",
    "    elif(cat == 'coat'):\n",
    "        return ordinal_encoder.categories_[3][int(value)]\n",
    "    elif(cat == 'breed'):\n",
    "        return ordinal_encoder.categories_[4][int(value)]"
   ]
  },
  {
   "cell_type": "code",
   "execution_count": 19,
   "metadata": {},
   "outputs": [],
   "source": [
    "def get_corr_map(data):\n",
    "    corr = data.corr()\n",
    "    plt.figure(figsize=(8, 8), dpi=100, facecolor='w', edgecolor='k')\n",
    "    colormap = plt.matshow(corr, fignum = 1)\n",
    "    plt.xticks(range(len(corr.columns)), corr.columns, rotation=90)\n",
    "    plt.yticks(range(len(corr.columns)), corr.columns)\n",
    "    plt.gca().xaxis.tick_bottom()\n",
    "    plt.colorbar(colormap)\n",
    "    plt.title('Correlation Map')\n",
    "    plt.show()\n",
    "    return corr"
   ]
  },
  {
   "cell_type": "code",
   "execution_count": 21,
   "metadata": {},
   "outputs": [
    {
     "output_type": "execute_result",
     "data": {
      "text/plain": [
       "2.0    26439\n",
       "0.0     9306\n",
       "1.0     6207\n",
       "Name: coat, dtype: int64"
      ]
     },
     "metadata": {},
     "execution_count": 21
    }
   ],
   "source": [
    "breeds_data_encoded['coat'].value_counts()"
   ]
  },
  {
   "cell_type": "code",
   "execution_count": 18,
   "metadata": {},
   "outputs": [],
   "source": [
    "# We found that some breeds contain very little trianing examples\n",
    "# drop breeds with training samples under\n",
    "\n",
    "# could drop the breeds between 13.2 and 19.8, or use the breeds with 500 or more images\n",
    "#breed_col = 8\n",
    "#print(breeds_data_encoded.iloc[:,breed_col].value_counts(ascending=False, bins = 10))\n",
    "\n",
    "#breeds_data = breeds_data_encoded.groupby('breed').filter(lambda x : len(x) >= 500)\n",
    "\n",
    "#print('\\n\\nBreeds with 500 or more images')\n",
    "#breeds_data['breed'].value_counts(ascending=False)"
   ]
  },
  {
   "cell_type": "code",
   "execution_count": 22,
   "metadata": {},
   "outputs": [
    {
     "output_type": "execute_result",
     "data": {
      "text/plain": [
       "       Unnamed: 0        id  \\\n",
       "3               3  46620170   \n",
       "7               7  46463847   \n",
       "11             11  46305208   \n",
       "12             12  46301725   \n",
       "13             13  46293180   \n",
       "...           ...       ...   \n",
       "67140       70984  43781057   \n",
       "67141       70985  43773439   \n",
       "67142       70986  43773383   \n",
       "67143       70987  43773168   \n",
       "67144       70988  46336858   \n",
       "\n",
       "                                                     url type  age  gender  \\\n",
       "3      https://www.petfinder.com/cat/mika-46620170/ca...  Cat  1.0     0.0   \n",
       "7      https://www.petfinder.com/cat/kingston-4646384...  Cat  0.0     1.0   \n",
       "11     https://www.petfinder.com/cat/quinn-46305208/m...  Cat  2.0     1.0   \n",
       "12     https://www.petfinder.com/cat/tazmania-fostere...  Cat  0.0     0.0   \n",
       "13     https://www.petfinder.com/cat/nutmeg-46293180/...  Cat  3.0     1.0   \n",
       "...                                                  ...  ...  ...     ...   \n",
       "67140  https://www.petfinder.com/cat/jasper-43781057/...  Cat  1.0     1.0   \n",
       "67141  https://www.petfinder.com/cat/missy-43773439/o...  Cat  0.0     0.0   \n",
       "67142  https://www.petfinder.com/cat/bandit-43773383/...  Cat  3.0     0.0   \n",
       "67143  https://www.petfinder.com/cat/maxy-43773168/ut...  Cat  0.0     1.0   \n",
       "67144  https://www.petfinder.com/cat/rolo-46336858/oh...  Cat  1.0     1.0   \n",
       "\n",
       "       size  coat  breed                                             photos  \\\n",
       "3       3.0   2.0    0.0  [{'small': 'https://dl5zpyw5k3jeb.cloudfront.n...   \n",
       "7       2.0   2.0    0.0  [{'small': 'https://dl5zpyw5k3jeb.cloudfront.n...   \n",
       "11      2.0   2.0    0.0  [{'small': 'https://dl5zpyw5k3jeb.cloudfront.n...   \n",
       "12      2.0   2.0    0.0  [{'small': 'https://dl5zpyw5k3jeb.cloudfront.n...   \n",
       "13      3.0   2.0    0.0  [{'small': 'https://dl5zpyw5k3jeb.cloudfront.n...   \n",
       "...     ...   ...    ...                                                ...   \n",
       "67140   2.0   2.0   65.0  [{'small': 'https://dl5zpyw5k3jeb.cloudfront.n...   \n",
       "67141   2.0   2.0   65.0  [{'small': 'https://dl5zpyw5k3jeb.cloudfront.n...   \n",
       "67142   1.0   2.0   65.0  [{'small': 'https://dl5zpyw5k3jeb.cloudfront.n...   \n",
       "67143   2.0   1.0   65.0  [{'small': 'https://dl5zpyw5k3jeb.cloudfront.n...   \n",
       "67144   3.0   1.0   66.0  [{'small': 'https://dl5zpyw5k3jeb.cloudfront.n...   \n",
       "\n",
       "                                              med_photos  \n",
       "3      ['https://dl5zpyw5k3jeb.cloudfront.net/photos/...  \n",
       "7      ['https://dl5zpyw5k3jeb.cloudfront.net/photos/...  \n",
       "11     ['https://dl5zpyw5k3jeb.cloudfront.net/photos/...  \n",
       "12     ['https://dl5zpyw5k3jeb.cloudfront.net/photos/...  \n",
       "13     ['https://dl5zpyw5k3jeb.cloudfront.net/photos/...  \n",
       "...                                                  ...  \n",
       "67140  ['https://dl5zpyw5k3jeb.cloudfront.net/photos/...  \n",
       "67141  ['https://dl5zpyw5k3jeb.cloudfront.net/photos/...  \n",
       "67142  ['https://dl5zpyw5k3jeb.cloudfront.net/photos/...  \n",
       "67143  ['https://dl5zpyw5k3jeb.cloudfront.net/photos/...  \n",
       "67144  ['https://dl5zpyw5k3jeb.cloudfront.net/photos/...  \n",
       "\n",
       "[41952 rows x 11 columns]"
      ],
      "text/html": "<div>\n<style scoped>\n    .dataframe tbody tr th:only-of-type {\n        vertical-align: middle;\n    }\n\n    .dataframe tbody tr th {\n        vertical-align: top;\n    }\n\n    .dataframe thead th {\n        text-align: right;\n    }\n</style>\n<table border=\"1\" class=\"dataframe\">\n  <thead>\n    <tr style=\"text-align: right;\">\n      <th></th>\n      <th>Unnamed: 0</th>\n      <th>id</th>\n      <th>url</th>\n      <th>type</th>\n      <th>age</th>\n      <th>gender</th>\n      <th>size</th>\n      <th>coat</th>\n      <th>breed</th>\n      <th>photos</th>\n      <th>med_photos</th>\n    </tr>\n  </thead>\n  <tbody>\n    <tr>\n      <th>3</th>\n      <td>3</td>\n      <td>46620170</td>\n      <td>https://www.petfinder.com/cat/mika-46620170/ca...</td>\n      <td>Cat</td>\n      <td>1.0</td>\n      <td>0.0</td>\n      <td>3.0</td>\n      <td>2.0</td>\n      <td>0.0</td>\n      <td>[{'small': 'https://dl5zpyw5k3jeb.cloudfront.n...</td>\n      <td>['https://dl5zpyw5k3jeb.cloudfront.net/photos/...</td>\n    </tr>\n    <tr>\n      <th>7</th>\n      <td>7</td>\n      <td>46463847</td>\n      <td>https://www.petfinder.com/cat/kingston-4646384...</td>\n      <td>Cat</td>\n      <td>0.0</td>\n      <td>1.0</td>\n      <td>2.0</td>\n      <td>2.0</td>\n      <td>0.0</td>\n      <td>[{'small': 'https://dl5zpyw5k3jeb.cloudfront.n...</td>\n      <td>['https://dl5zpyw5k3jeb.cloudfront.net/photos/...</td>\n    </tr>\n    <tr>\n      <th>11</th>\n      <td>11</td>\n      <td>46305208</td>\n      <td>https://www.petfinder.com/cat/quinn-46305208/m...</td>\n      <td>Cat</td>\n      <td>2.0</td>\n      <td>1.0</td>\n      <td>2.0</td>\n      <td>2.0</td>\n      <td>0.0</td>\n      <td>[{'small': 'https://dl5zpyw5k3jeb.cloudfront.n...</td>\n      <td>['https://dl5zpyw5k3jeb.cloudfront.net/photos/...</td>\n    </tr>\n    <tr>\n      <th>12</th>\n      <td>12</td>\n      <td>46301725</td>\n      <td>https://www.petfinder.com/cat/tazmania-fostere...</td>\n      <td>Cat</td>\n      <td>0.0</td>\n      <td>0.0</td>\n      <td>2.0</td>\n      <td>2.0</td>\n      <td>0.0</td>\n      <td>[{'small': 'https://dl5zpyw5k3jeb.cloudfront.n...</td>\n      <td>['https://dl5zpyw5k3jeb.cloudfront.net/photos/...</td>\n    </tr>\n    <tr>\n      <th>13</th>\n      <td>13</td>\n      <td>46293180</td>\n      <td>https://www.petfinder.com/cat/nutmeg-46293180/...</td>\n      <td>Cat</td>\n      <td>3.0</td>\n      <td>1.0</td>\n      <td>3.0</td>\n      <td>2.0</td>\n      <td>0.0</td>\n      <td>[{'small': 'https://dl5zpyw5k3jeb.cloudfront.n...</td>\n      <td>['https://dl5zpyw5k3jeb.cloudfront.net/photos/...</td>\n    </tr>\n    <tr>\n      <th>...</th>\n      <td>...</td>\n      <td>...</td>\n      <td>...</td>\n      <td>...</td>\n      <td>...</td>\n      <td>...</td>\n      <td>...</td>\n      <td>...</td>\n      <td>...</td>\n      <td>...</td>\n      <td>...</td>\n    </tr>\n    <tr>\n      <th>67140</th>\n      <td>70984</td>\n      <td>43781057</td>\n      <td>https://www.petfinder.com/cat/jasper-43781057/...</td>\n      <td>Cat</td>\n      <td>1.0</td>\n      <td>1.0</td>\n      <td>2.0</td>\n      <td>2.0</td>\n      <td>65.0</td>\n      <td>[{'small': 'https://dl5zpyw5k3jeb.cloudfront.n...</td>\n      <td>['https://dl5zpyw5k3jeb.cloudfront.net/photos/...</td>\n    </tr>\n    <tr>\n      <th>67141</th>\n      <td>70985</td>\n      <td>43773439</td>\n      <td>https://www.petfinder.com/cat/missy-43773439/o...</td>\n      <td>Cat</td>\n      <td>0.0</td>\n      <td>0.0</td>\n      <td>2.0</td>\n      <td>2.0</td>\n      <td>65.0</td>\n      <td>[{'small': 'https://dl5zpyw5k3jeb.cloudfront.n...</td>\n      <td>['https://dl5zpyw5k3jeb.cloudfront.net/photos/...</td>\n    </tr>\n    <tr>\n      <th>67142</th>\n      <td>70986</td>\n      <td>43773383</td>\n      <td>https://www.petfinder.com/cat/bandit-43773383/...</td>\n      <td>Cat</td>\n      <td>3.0</td>\n      <td>0.0</td>\n      <td>1.0</td>\n      <td>2.0</td>\n      <td>65.0</td>\n      <td>[{'small': 'https://dl5zpyw5k3jeb.cloudfront.n...</td>\n      <td>['https://dl5zpyw5k3jeb.cloudfront.net/photos/...</td>\n    </tr>\n    <tr>\n      <th>67143</th>\n      <td>70987</td>\n      <td>43773168</td>\n      <td>https://www.petfinder.com/cat/maxy-43773168/ut...</td>\n      <td>Cat</td>\n      <td>0.0</td>\n      <td>1.0</td>\n      <td>2.0</td>\n      <td>1.0</td>\n      <td>65.0</td>\n      <td>[{'small': 'https://dl5zpyw5k3jeb.cloudfront.n...</td>\n      <td>['https://dl5zpyw5k3jeb.cloudfront.net/photos/...</td>\n    </tr>\n    <tr>\n      <th>67144</th>\n      <td>70988</td>\n      <td>46336858</td>\n      <td>https://www.petfinder.com/cat/rolo-46336858/oh...</td>\n      <td>Cat</td>\n      <td>1.0</td>\n      <td>1.0</td>\n      <td>3.0</td>\n      <td>1.0</td>\n      <td>66.0</td>\n      <td>[{'small': 'https://dl5zpyw5k3jeb.cloudfront.n...</td>\n      <td>['https://dl5zpyw5k3jeb.cloudfront.net/photos/...</td>\n    </tr>\n  </tbody>\n</table>\n<p>41952 rows × 11 columns</p>\n</div>"
     },
     "metadata": {},
     "execution_count": 22
    }
   ],
   "source": [
    "breeds_data_encoded"
   ]
  },
  {
   "cell_type": "code",
   "execution_count": 23,
   "metadata": {},
   "outputs": [],
   "source": [
    "# Find related images from med_photos column\n",
    "import re\n",
    "from os import walk\n",
    "#from tqdm import trange\n",
    "\n",
    "pattern = r\"\\/(\\d+)\\/\"\n",
    "\n",
    "def find_file(breed, name):\n",
    "    _, _, files = next(walk(f'../../Datasets/cats/images/{breed}'))\n",
    "    for file in files:\n",
    "        #print(file, breed, name)\n",
    "        if(name in file):\n",
    "            return file\n",
    "    return None\n",
    "\n",
    "def match_file(df):\n",
    "    result = []\n",
    "    for i, row in df.iterrows():\n",
    "        breed = get_cat_string('breed', row['breed'])\n",
    "        photo = find_file(breed, re.findall(r\"\\/(\\d+)\\/\", row['med_photos'])[0])\n",
    "        #print(photo)\n",
    "        result.append(f'{breed}/{photo}')\n",
    "        \n",
    "    return pd.Series(result, index=df.index)"
   ]
  },
  {
   "cell_type": "code",
   "execution_count": 24,
   "metadata": {
    "tags": []
   },
   "outputs": [
    {
     "output_type": "execute_result",
     "data": {
      "text/plain": [
       "       age  gender  size  coat  breed                              image\n",
       "3      1.0     0.0   3.0   2.0    0.0          Abyssinian/46620170_3.jpg\n",
       "7      0.0     1.0   2.0   2.0    0.0          Abyssinian/46463847_8.jpg\n",
       "11     2.0     1.0   2.0   2.0    0.0         Abyssinian/46305208_12.jpg\n",
       "12     0.0     0.0   2.0   2.0    0.0         Abyssinian/46301725_13.jpg\n",
       "13     3.0     1.0   3.0   2.0    0.0         Abyssinian/46293180_14.jpg\n",
       "...    ...     ...   ...   ...    ...                                ...\n",
       "67140  1.0     1.0   2.0   2.0   65.0           Tuxedo/43781057_7295.jpg\n",
       "67141  0.0     0.0   2.0   2.0   65.0           Tuxedo/43773439_7304.jpg\n",
       "67142  3.0     0.0   1.0   2.0   65.0           Tuxedo/43773383_7305.jpg\n",
       "67143  0.0     1.0   2.0   1.0   65.0           Tuxedo/43773168_7306.jpg\n",
       "67144  1.0     1.0   3.0   1.0   66.0  York Chocolate/46336858_40884.jpg\n",
       "\n",
       "[41939 rows x 6 columns]"
      ],
      "text/html": "<div>\n<style scoped>\n    .dataframe tbody tr th:only-of-type {\n        vertical-align: middle;\n    }\n\n    .dataframe tbody tr th {\n        vertical-align: top;\n    }\n\n    .dataframe thead th {\n        text-align: right;\n    }\n</style>\n<table border=\"1\" class=\"dataframe\">\n  <thead>\n    <tr style=\"text-align: right;\">\n      <th></th>\n      <th>age</th>\n      <th>gender</th>\n      <th>size</th>\n      <th>coat</th>\n      <th>breed</th>\n      <th>image</th>\n    </tr>\n  </thead>\n  <tbody>\n    <tr>\n      <th>3</th>\n      <td>1.0</td>\n      <td>0.0</td>\n      <td>3.0</td>\n      <td>2.0</td>\n      <td>0.0</td>\n      <td>Abyssinian/46620170_3.jpg</td>\n    </tr>\n    <tr>\n      <th>7</th>\n      <td>0.0</td>\n      <td>1.0</td>\n      <td>2.0</td>\n      <td>2.0</td>\n      <td>0.0</td>\n      <td>Abyssinian/46463847_8.jpg</td>\n    </tr>\n    <tr>\n      <th>11</th>\n      <td>2.0</td>\n      <td>1.0</td>\n      <td>2.0</td>\n      <td>2.0</td>\n      <td>0.0</td>\n      <td>Abyssinian/46305208_12.jpg</td>\n    </tr>\n    <tr>\n      <th>12</th>\n      <td>0.0</td>\n      <td>0.0</td>\n      <td>2.0</td>\n      <td>2.0</td>\n      <td>0.0</td>\n      <td>Abyssinian/46301725_13.jpg</td>\n    </tr>\n    <tr>\n      <th>13</th>\n      <td>3.0</td>\n      <td>1.0</td>\n      <td>3.0</td>\n      <td>2.0</td>\n      <td>0.0</td>\n      <td>Abyssinian/46293180_14.jpg</td>\n    </tr>\n    <tr>\n      <th>...</th>\n      <td>...</td>\n      <td>...</td>\n      <td>...</td>\n      <td>...</td>\n      <td>...</td>\n      <td>...</td>\n    </tr>\n    <tr>\n      <th>67140</th>\n      <td>1.0</td>\n      <td>1.0</td>\n      <td>2.0</td>\n      <td>2.0</td>\n      <td>65.0</td>\n      <td>Tuxedo/43781057_7295.jpg</td>\n    </tr>\n    <tr>\n      <th>67141</th>\n      <td>0.0</td>\n      <td>0.0</td>\n      <td>2.0</td>\n      <td>2.0</td>\n      <td>65.0</td>\n      <td>Tuxedo/43773439_7304.jpg</td>\n    </tr>\n    <tr>\n      <th>67142</th>\n      <td>3.0</td>\n      <td>0.0</td>\n      <td>1.0</td>\n      <td>2.0</td>\n      <td>65.0</td>\n      <td>Tuxedo/43773383_7305.jpg</td>\n    </tr>\n    <tr>\n      <th>67143</th>\n      <td>0.0</td>\n      <td>1.0</td>\n      <td>2.0</td>\n      <td>1.0</td>\n      <td>65.0</td>\n      <td>Tuxedo/43773168_7306.jpg</td>\n    </tr>\n    <tr>\n      <th>67144</th>\n      <td>1.0</td>\n      <td>1.0</td>\n      <td>3.0</td>\n      <td>1.0</td>\n      <td>66.0</td>\n      <td>York Chocolate/46336858_40884.jpg</td>\n    </tr>\n  </tbody>\n</table>\n<p>41939 rows × 6 columns</p>\n</div>"
     },
     "metadata": {},
     "execution_count": 24
    }
   ],
   "source": [
    "# Drop columns/rows and Parse photos\n",
    "# We use med_photos\n",
    "breeds_data_final = breeds_data_encoded.iloc[:, 4:9]\n",
    "breeds_data_final['image'] = match_file(breeds_data_encoded)    # Adding new column - image path\n",
    "breeds_data_final = breeds_data_final.drop(breeds_data_final[(breeds_data_final['image'].str.contains('None'))].index)     # Drop None images, there are 13\n",
    "breeds_data_final"
   ]
  },
  {
   "cell_type": "code",
   "execution_count": 25,
   "metadata": {},
   "outputs": [
    {
     "output_type": "display_data",
     "data": {
      "text/plain": "<Figure size 800x800 with 2 Axes>",
      "image/svg+xml": "<?xml version=\"1.0\" encoding=\"utf-8\" standalone=\"no\"?>\r\n<!DOCTYPE svg PUBLIC \"-//W3C//DTD SVG 1.1//EN\"\r\n  \"http://www.w3.org/Graphics/SVG/1.1/DTD/svg11.dtd\">\r\n<svg height=\"464.599219pt\" version=\"1.1\" viewBox=\"0 0 481.514687 464.599219\" width=\"481.514687pt\" xmlns=\"http://www.w3.org/2000/svg\" xmlns:xlink=\"http://www.w3.org/1999/xlink\">\r\n <metadata>\r\n  <rdf:RDF xmlns:cc=\"http://creativecommons.org/ns#\" xmlns:dc=\"http://purl.org/dc/elements/1.1/\" xmlns:rdf=\"http://www.w3.org/1999/02/22-rdf-syntax-ns#\">\r\n   <cc:Work>\r\n    <dc:type rdf:resource=\"http://purl.org/dc/dcmitype/StillImage\"/>\r\n    <dc:date>2021-04-23T19:54:30.606300</dc:date>\r\n    <dc:format>image/svg+xml</dc:format>\r\n    <dc:creator>\r\n     <cc:Agent>\r\n      <dc:title>Matplotlib v3.4.1, https://matplotlib.org/</dc:title>\r\n     </cc:Agent>\r\n    </dc:creator>\r\n   </cc:Work>\r\n  </rdf:RDF>\r\n </metadata>\r\n <defs>\r\n  <style type=\"text/css\">*{stroke-linecap:butt;stroke-linejoin:round;}</style>\r\n </defs>\r\n <g id=\"figure_1\">\r\n  <g id=\"patch_1\">\r\n   <path d=\"M 0 464.599219 \r\nL 481.514687 464.599219 \r\nL 481.514687 0 \r\nL 0 0 \r\nz\r\n\" style=\"fill:#ffffff;\"/>\r\n  </g>\r\n  <g id=\"axes_1\">\r\n   <g id=\"patch_2\">\r\n    <path d=\"M 49.651563 412.759219 \r\nL 406.771563 412.759219 \r\nL 406.771563 55.639219 \r\nL 49.651563 55.639219 \r\nz\r\n\" style=\"fill:#ffffff;\"/>\r\n   </g>\r\n   <g clip-path=\"url(#p4aa26997a3)\">\r\n    <image height=\"357.12\" id=\"image1fc6b5f2b5\" transform=\"scale(1 -1)translate(0 -357.12)\" width=\"357.12\" x=\"49.651563\" xlink:href=\"data:image/png;base64,\r\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\" y=\"-55.639219\"/>\r\n   </g>\r\n   <g id=\"matplotlib.axis_1\">\r\n    <g id=\"xtick_1\">\r\n     <g id=\"line2d_1\">\r\n      <defs>\r\n       <path d=\"M 0 0 \r\nL 0 3.5 \r\n\" id=\"m09db70d7b4\" style=\"stroke:#000000;stroke-width:0.8;\"/>\r\n      </defs>\r\n      <g>\r\n       <use style=\"stroke:#000000;stroke-width:0.8;\" x=\"85.363563\" xlink:href=\"#m09db70d7b4\" y=\"412.759219\"/>\r\n      </g>\r\n     </g>\r\n     <g id=\"text_1\">\r\n      <!-- age -->\r\n      <g transform=\"translate(88.122938 438.388906)rotate(-90)scale(0.1 -0.1)\">\r\n       <defs>\r\n        <path d=\"M 2194 1759 \r\nQ 1497 1759 1228 1600 \r\nQ 959 1441 959 1056 \r\nQ 959 750 1161 570 \r\nQ 1363 391 1709 391 \r\nQ 2188 391 2477 730 \r\nQ 2766 1069 2766 1631 \r\nL 2766 1759 \r\nL 2194 1759 \r\nz\r\nM 3341 1997 \r\nL 3341 0 \r\nL 2766 0 \r\nL 2766 531 \r\nQ 2569 213 2275 61 \r\nQ 1981 -91 1556 -91 \r\nQ 1019 -91 701 211 \r\nQ 384 513 384 1019 \r\nQ 384 1609 779 1909 \r\nQ 1175 2209 1959 2209 \r\nL 2766 2209 \r\nL 2766 2266 \r\nQ 2766 2663 2505 2880 \r\nQ 2244 3097 1772 3097 \r\nQ 1472 3097 1187 3025 \r\nQ 903 2953 641 2809 \r\nL 641 3341 \r\nQ 956 3463 1253 3523 \r\nQ 1550 3584 1831 3584 \r\nQ 2591 3584 2966 3190 \r\nQ 3341 2797 3341 1997 \r\nz\r\n\" id=\"DejaVuSans-61\" transform=\"scale(0.015625)\"/>\r\n        <path d=\"M 2906 1791 \r\nQ 2906 2416 2648 2759 \r\nQ 2391 3103 1925 3103 \r\nQ 1463 3103 1205 2759 \r\nQ 947 2416 947 1791 \r\nQ 947 1169 1205 825 \r\nQ 1463 481 1925 481 \r\nQ 2391 481 2648 825 \r\nQ 2906 1169 2906 1791 \r\nz\r\nM 3481 434 \r\nQ 3481 -459 3084 -895 \r\nQ 2688 -1331 1869 -1331 \r\nQ 1566 -1331 1297 -1286 \r\nQ 1028 -1241 775 -1147 \r\nL 775 -588 \r\nQ 1028 -725 1275 -790 \r\nQ 1522 -856 1778 -856 \r\nQ 2344 -856 2625 -561 \r\nQ 2906 -266 2906 331 \r\nL 2906 616 \r\nQ 2728 306 2450 153 \r\nQ 2172 0 1784 0 \r\nQ 1141 0 747 490 \r\nQ 353 981 353 1791 \r\nQ 353 2603 747 3093 \r\nQ 1141 3584 1784 3584 \r\nQ 2172 3584 2450 3431 \r\nQ 2728 3278 2906 2969 \r\nL 2906 3500 \r\nL 3481 3500 \r\nL 3481 434 \r\nz\r\n\" id=\"DejaVuSans-67\" transform=\"scale(0.015625)\"/>\r\n        <path d=\"M 3597 1894 \r\nL 3597 1613 \r\nL 953 1613 \r\nQ 991 1019 1311 708 \r\nQ 1631 397 2203 397 \r\nQ 2534 397 2845 478 \r\nQ 3156 559 3463 722 \r\nL 3463 178 \r\nQ 3153 47 2828 -22 \r\nQ 2503 -91 2169 -91 \r\nQ 1331 -91 842 396 \r\nQ 353 884 353 1716 \r\nQ 353 2575 817 3079 \r\nQ 1281 3584 2069 3584 \r\nQ 2775 3584 3186 3129 \r\nQ 3597 2675 3597 1894 \r\nz\r\nM 3022 2063 \r\nQ 3016 2534 2758 2815 \r\nQ 2500 3097 2075 3097 \r\nQ 1594 3097 1305 2825 \r\nQ 1016 2553 972 2059 \r\nL 3022 2063 \r\nz\r\n\" id=\"DejaVuSans-65\" transform=\"scale(0.015625)\"/>\r\n       </defs>\r\n       <use xlink:href=\"#DejaVuSans-61\"/>\r\n       <use x=\"61.279297\" xlink:href=\"#DejaVuSans-67\"/>\r\n       <use x=\"124.755859\" xlink:href=\"#DejaVuSans-65\"/>\r\n      </g>\r\n     </g>\r\n    </g>\r\n    <g id=\"xtick_2\">\r\n     <g id=\"line2d_2\">\r\n      <g>\r\n       <use style=\"stroke:#000000;stroke-width:0.8;\" x=\"156.787563\" xlink:href=\"#m09db70d7b4\" y=\"412.759219\"/>\r\n      </g>\r\n     </g>\r\n     <g id=\"text_2\">\r\n      <!-- gender -->\r\n      <g transform=\"translate(159.546938 455.210781)rotate(-90)scale(0.1 -0.1)\">\r\n       <defs>\r\n        <path d=\"M 3513 2113 \r\nL 3513 0 \r\nL 2938 0 \r\nL 2938 2094 \r\nQ 2938 2591 2744 2837 \r\nQ 2550 3084 2163 3084 \r\nQ 1697 3084 1428 2787 \r\nQ 1159 2491 1159 1978 \r\nL 1159 0 \r\nL 581 0 \r\nL 581 3500 \r\nL 1159 3500 \r\nL 1159 2956 \r\nQ 1366 3272 1645 3428 \r\nQ 1925 3584 2291 3584 \r\nQ 2894 3584 3203 3211 \r\nQ 3513 2838 3513 2113 \r\nz\r\n\" id=\"DejaVuSans-6e\" transform=\"scale(0.015625)\"/>\r\n        <path d=\"M 2906 2969 \r\nL 2906 4863 \r\nL 3481 4863 \r\nL 3481 0 \r\nL 2906 0 \r\nL 2906 525 \r\nQ 2725 213 2448 61 \r\nQ 2172 -91 1784 -91 \r\nQ 1150 -91 751 415 \r\nQ 353 922 353 1747 \r\nQ 353 2572 751 3078 \r\nQ 1150 3584 1784 3584 \r\nQ 2172 3584 2448 3432 \r\nQ 2725 3281 2906 2969 \r\nz\r\nM 947 1747 \r\nQ 947 1113 1208 752 \r\nQ 1469 391 1925 391 \r\nQ 2381 391 2643 752 \r\nQ 2906 1113 2906 1747 \r\nQ 2906 2381 2643 2742 \r\nQ 2381 3103 1925 3103 \r\nQ 1469 3103 1208 2742 \r\nQ 947 2381 947 1747 \r\nz\r\n\" id=\"DejaVuSans-64\" transform=\"scale(0.015625)\"/>\r\n        <path d=\"M 2631 2963 \r\nQ 2534 3019 2420 3045 \r\nQ 2306 3072 2169 3072 \r\nQ 1681 3072 1420 2755 \r\nQ 1159 2438 1159 1844 \r\nL 1159 0 \r\nL 581 0 \r\nL 581 3500 \r\nL 1159 3500 \r\nL 1159 2956 \r\nQ 1341 3275 1631 3429 \r\nQ 1922 3584 2338 3584 \r\nQ 2397 3584 2469 3576 \r\nQ 2541 3569 2628 3553 \r\nL 2631 2963 \r\nz\r\n\" id=\"DejaVuSans-72\" transform=\"scale(0.015625)\"/>\r\n       </defs>\r\n       <use xlink:href=\"#DejaVuSans-67\"/>\r\n       <use x=\"63.476562\" xlink:href=\"#DejaVuSans-65\"/>\r\n       <use x=\"125\" xlink:href=\"#DejaVuSans-6e\"/>\r\n       <use x=\"188.378906\" xlink:href=\"#DejaVuSans-64\"/>\r\n       <use x=\"251.855469\" xlink:href=\"#DejaVuSans-65\"/>\r\n       <use x=\"313.378906\" xlink:href=\"#DejaVuSans-72\"/>\r\n      </g>\r\n     </g>\r\n    </g>\r\n    <g id=\"xtick_3\">\r\n     <g id=\"line2d_3\">\r\n      <g>\r\n       <use style=\"stroke:#000000;stroke-width:0.8;\" x=\"228.211563\" xlink:href=\"#m09db70d7b4\" y=\"412.759219\"/>\r\n      </g>\r\n     </g>\r\n     <g id=\"text_3\">\r\n      <!-- size -->\r\n      <g transform=\"translate(230.970938 439.148281)rotate(-90)scale(0.1 -0.1)\">\r\n       <defs>\r\n        <path d=\"M 2834 3397 \r\nL 2834 2853 \r\nQ 2591 2978 2328 3040 \r\nQ 2066 3103 1784 3103 \r\nQ 1356 3103 1142 2972 \r\nQ 928 2841 928 2578 \r\nQ 928 2378 1081 2264 \r\nQ 1234 2150 1697 2047 \r\nL 1894 2003 \r\nQ 2506 1872 2764 1633 \r\nQ 3022 1394 3022 966 \r\nQ 3022 478 2636 193 \r\nQ 2250 -91 1575 -91 \r\nQ 1294 -91 989 -36 \r\nQ 684 19 347 128 \r\nL 347 722 \r\nQ 666 556 975 473 \r\nQ 1284 391 1588 391 \r\nQ 1994 391 2212 530 \r\nQ 2431 669 2431 922 \r\nQ 2431 1156 2273 1281 \r\nQ 2116 1406 1581 1522 \r\nL 1381 1569 \r\nQ 847 1681 609 1914 \r\nQ 372 2147 372 2553 \r\nQ 372 3047 722 3315 \r\nQ 1072 3584 1716 3584 \r\nQ 2034 3584 2315 3537 \r\nQ 2597 3491 2834 3397 \r\nz\r\n\" id=\"DejaVuSans-73\" transform=\"scale(0.015625)\"/>\r\n        <path d=\"M 603 3500 \r\nL 1178 3500 \r\nL 1178 0 \r\nL 603 0 \r\nL 603 3500 \r\nz\r\nM 603 4863 \r\nL 1178 4863 \r\nL 1178 4134 \r\nL 603 4134 \r\nL 603 4863 \r\nz\r\n\" id=\"DejaVuSans-69\" transform=\"scale(0.015625)\"/>\r\n        <path d=\"M 353 3500 \r\nL 3084 3500 \r\nL 3084 2975 \r\nL 922 459 \r\nL 3084 459 \r\nL 3084 0 \r\nL 275 0 \r\nL 275 525 \r\nL 2438 3041 \r\nL 353 3041 \r\nL 353 3500 \r\nz\r\n\" id=\"DejaVuSans-7a\" transform=\"scale(0.015625)\"/>\r\n       </defs>\r\n       <use xlink:href=\"#DejaVuSans-73\"/>\r\n       <use x=\"52.099609\" xlink:href=\"#DejaVuSans-69\"/>\r\n       <use x=\"79.882812\" xlink:href=\"#DejaVuSans-7a\"/>\r\n       <use x=\"132.373047\" xlink:href=\"#DejaVuSans-65\"/>\r\n      </g>\r\n     </g>\r\n    </g>\r\n    <g id=\"xtick_4\">\r\n     <g id=\"line2d_4\">\r\n      <g>\r\n       <use style=\"stroke:#000000;stroke-width:0.8;\" x=\"299.635562\" xlink:href=\"#m09db70d7b4\" y=\"412.759219\"/>\r\n      </g>\r\n     </g>\r\n     <g id=\"text_4\">\r\n      <!-- coat -->\r\n      <g transform=\"translate(302.394937 441.424844)rotate(-90)scale(0.1 -0.1)\">\r\n       <defs>\r\n        <path d=\"M 3122 3366 \r\nL 3122 2828 \r\nQ 2878 2963 2633 3030 \r\nQ 2388 3097 2138 3097 \r\nQ 1578 3097 1268 2742 \r\nQ 959 2388 959 1747 \r\nQ 959 1106 1268 751 \r\nQ 1578 397 2138 397 \r\nQ 2388 397 2633 464 \r\nQ 2878 531 3122 666 \r\nL 3122 134 \r\nQ 2881 22 2623 -34 \r\nQ 2366 -91 2075 -91 \r\nQ 1284 -91 818 406 \r\nQ 353 903 353 1747 \r\nQ 353 2603 823 3093 \r\nQ 1294 3584 2113 3584 \r\nQ 2378 3584 2631 3529 \r\nQ 2884 3475 3122 3366 \r\nz\r\n\" id=\"DejaVuSans-63\" transform=\"scale(0.015625)\"/>\r\n        <path d=\"M 1959 3097 \r\nQ 1497 3097 1228 2736 \r\nQ 959 2375 959 1747 \r\nQ 959 1119 1226 758 \r\nQ 1494 397 1959 397 \r\nQ 2419 397 2687 759 \r\nQ 2956 1122 2956 1747 \r\nQ 2956 2369 2687 2733 \r\nQ 2419 3097 1959 3097 \r\nz\r\nM 1959 3584 \r\nQ 2709 3584 3137 3096 \r\nQ 3566 2609 3566 1747 \r\nQ 3566 888 3137 398 \r\nQ 2709 -91 1959 -91 \r\nQ 1206 -91 779 398 \r\nQ 353 888 353 1747 \r\nQ 353 2609 779 3096 \r\nQ 1206 3584 1959 3584 \r\nz\r\n\" id=\"DejaVuSans-6f\" transform=\"scale(0.015625)\"/>\r\n        <path d=\"M 1172 4494 \r\nL 1172 3500 \r\nL 2356 3500 \r\nL 2356 3053 \r\nL 1172 3053 \r\nL 1172 1153 \r\nQ 1172 725 1289 603 \r\nQ 1406 481 1766 481 \r\nL 2356 481 \r\nL 2356 0 \r\nL 1766 0 \r\nQ 1100 0 847 248 \r\nQ 594 497 594 1153 \r\nL 594 3053 \r\nL 172 3053 \r\nL 172 3500 \r\nL 594 3500 \r\nL 594 4494 \r\nL 1172 4494 \r\nz\r\n\" id=\"DejaVuSans-74\" transform=\"scale(0.015625)\"/>\r\n       </defs>\r\n       <use xlink:href=\"#DejaVuSans-63\"/>\r\n       <use x=\"54.980469\" xlink:href=\"#DejaVuSans-6f\"/>\r\n       <use x=\"116.162109\" xlink:href=\"#DejaVuSans-61\"/>\r\n       <use x=\"177.441406\" xlink:href=\"#DejaVuSans-74\"/>\r\n      </g>\r\n     </g>\r\n    </g>\r\n    <g id=\"xtick_5\">\r\n     <g id=\"line2d_5\">\r\n      <g>\r\n       <use style=\"stroke:#000000;stroke-width:0.8;\" x=\"371.059563\" xlink:href=\"#m09db70d7b4\" y=\"412.759219\"/>\r\n      </g>\r\n     </g>\r\n     <g id=\"text_5\">\r\n      <!-- breed -->\r\n      <g transform=\"translate(373.818938 448.648281)rotate(-90)scale(0.1 -0.1)\">\r\n       <defs>\r\n        <path d=\"M 3116 1747 \r\nQ 3116 2381 2855 2742 \r\nQ 2594 3103 2138 3103 \r\nQ 1681 3103 1420 2742 \r\nQ 1159 2381 1159 1747 \r\nQ 1159 1113 1420 752 \r\nQ 1681 391 2138 391 \r\nQ 2594 391 2855 752 \r\nQ 3116 1113 3116 1747 \r\nz\r\nM 1159 2969 \r\nQ 1341 3281 1617 3432 \r\nQ 1894 3584 2278 3584 \r\nQ 2916 3584 3314 3078 \r\nQ 3713 2572 3713 1747 \r\nQ 3713 922 3314 415 \r\nQ 2916 -91 2278 -91 \r\nQ 1894 -91 1617 61 \r\nQ 1341 213 1159 525 \r\nL 1159 0 \r\nL 581 0 \r\nL 581 4863 \r\nL 1159 4863 \r\nL 1159 2969 \r\nz\r\n\" id=\"DejaVuSans-62\" transform=\"scale(0.015625)\"/>\r\n       </defs>\r\n       <use xlink:href=\"#DejaVuSans-62\"/>\r\n       <use x=\"63.476562\" xlink:href=\"#DejaVuSans-72\"/>\r\n       <use x=\"102.339844\" xlink:href=\"#DejaVuSans-65\"/>\r\n       <use x=\"163.863281\" xlink:href=\"#DejaVuSans-65\"/>\r\n       <use x=\"225.386719\" xlink:href=\"#DejaVuSans-64\"/>\r\n      </g>\r\n     </g>\r\n    </g>\r\n   </g>\r\n   <g id=\"matplotlib.axis_2\">\r\n    <g id=\"ytick_1\">\r\n     <g id=\"line2d_6\">\r\n      <defs>\r\n       <path d=\"M 0 0 \r\nL -3.5 0 \r\n\" id=\"m519a7a0af1\" style=\"stroke:#000000;stroke-width:0.8;\"/>\r\n      </defs>\r\n      <g>\r\n       <use style=\"stroke:#000000;stroke-width:0.8;\" x=\"49.651563\" xlink:href=\"#m519a7a0af1\" y=\"91.351219\"/>\r\n      </g>\r\n     </g>\r\n     <g id=\"text_6\">\r\n      <!-- age -->\r\n      <g transform=\"translate(24.021875 95.150438)scale(0.1 -0.1)\">\r\n       <use xlink:href=\"#DejaVuSans-61\"/>\r\n       <use x=\"61.279297\" xlink:href=\"#DejaVuSans-67\"/>\r\n       <use x=\"124.755859\" xlink:href=\"#DejaVuSans-65\"/>\r\n      </g>\r\n     </g>\r\n    </g>\r\n    <g id=\"ytick_2\">\r\n     <g id=\"line2d_7\">\r\n      <g>\r\n       <use style=\"stroke:#000000;stroke-width:0.8;\" x=\"49.651563\" xlink:href=\"#m519a7a0af1\" y=\"162.775219\"/>\r\n      </g>\r\n     </g>\r\n     <g id=\"text_7\">\r\n      <!-- gender -->\r\n      <g transform=\"translate(7.2 166.574438)scale(0.1 -0.1)\">\r\n       <use xlink:href=\"#DejaVuSans-67\"/>\r\n       <use x=\"63.476562\" xlink:href=\"#DejaVuSans-65\"/>\r\n       <use x=\"125\" xlink:href=\"#DejaVuSans-6e\"/>\r\n       <use x=\"188.378906\" xlink:href=\"#DejaVuSans-64\"/>\r\n       <use x=\"251.855469\" xlink:href=\"#DejaVuSans-65\"/>\r\n       <use x=\"313.378906\" xlink:href=\"#DejaVuSans-72\"/>\r\n      </g>\r\n     </g>\r\n    </g>\r\n    <g id=\"ytick_3\">\r\n     <g id=\"line2d_8\">\r\n      <g>\r\n       <use style=\"stroke:#000000;stroke-width:0.8;\" x=\"49.651563\" xlink:href=\"#m519a7a0af1\" y=\"234.199219\"/>\r\n      </g>\r\n     </g>\r\n     <g id=\"text_8\">\r\n      <!-- size -->\r\n      <g transform=\"translate(23.2625 237.998438)scale(0.1 -0.1)\">\r\n       <use xlink:href=\"#DejaVuSans-73\"/>\r\n       <use x=\"52.099609\" xlink:href=\"#DejaVuSans-69\"/>\r\n       <use x=\"79.882812\" xlink:href=\"#DejaVuSans-7a\"/>\r\n       <use x=\"132.373047\" xlink:href=\"#DejaVuSans-65\"/>\r\n      </g>\r\n     </g>\r\n    </g>\r\n    <g id=\"ytick_4\">\r\n     <g id=\"line2d_9\">\r\n      <g>\r\n       <use style=\"stroke:#000000;stroke-width:0.8;\" x=\"49.651563\" xlink:href=\"#m519a7a0af1\" y=\"305.623219\"/>\r\n      </g>\r\n     </g>\r\n     <g id=\"text_9\">\r\n      <!-- coat -->\r\n      <g transform=\"translate(20.985938 309.422438)scale(0.1 -0.1)\">\r\n       <use xlink:href=\"#DejaVuSans-63\"/>\r\n       <use x=\"54.980469\" xlink:href=\"#DejaVuSans-6f\"/>\r\n       <use x=\"116.162109\" xlink:href=\"#DejaVuSans-61\"/>\r\n       <use x=\"177.441406\" xlink:href=\"#DejaVuSans-74\"/>\r\n      </g>\r\n     </g>\r\n    </g>\r\n    <g id=\"ytick_5\">\r\n     <g id=\"line2d_10\">\r\n      <g>\r\n       <use style=\"stroke:#000000;stroke-width:0.8;\" x=\"49.651563\" xlink:href=\"#m519a7a0af1\" y=\"377.047219\"/>\r\n      </g>\r\n     </g>\r\n     <g id=\"text_10\">\r\n      <!-- breed -->\r\n      <g transform=\"translate(13.7625 380.846437)scale(0.1 -0.1)\">\r\n       <use xlink:href=\"#DejaVuSans-62\"/>\r\n       <use x=\"63.476562\" xlink:href=\"#DejaVuSans-72\"/>\r\n       <use x=\"102.339844\" xlink:href=\"#DejaVuSans-65\"/>\r\n       <use x=\"163.863281\" xlink:href=\"#DejaVuSans-65\"/>\r\n       <use x=\"225.386719\" xlink:href=\"#DejaVuSans-64\"/>\r\n      </g>\r\n     </g>\r\n    </g>\r\n   </g>\r\n   <g id=\"patch_3\">\r\n    <path d=\"M 49.651563 412.759219 \r\nL 49.651563 55.639219 \r\n\" style=\"fill:none;stroke:#000000;stroke-linecap:square;stroke-linejoin:miter;stroke-width:0.8;\"/>\r\n   </g>\r\n   <g id=\"patch_4\">\r\n    <path d=\"M 406.771563 412.759219 \r\nL 406.771563 55.639219 \r\n\" style=\"fill:none;stroke:#000000;stroke-linecap:square;stroke-linejoin:miter;stroke-width:0.8;\"/>\r\n   </g>\r\n   <g id=\"patch_5\">\r\n    <path d=\"M 49.651562 412.759219 \r\nL 406.771563 412.759219 \r\n\" style=\"fill:none;stroke:#000000;stroke-linecap:square;stroke-linejoin:miter;stroke-width:0.8;\"/>\r\n   </g>\r\n   <g id=\"patch_6\">\r\n    <path d=\"M 49.651562 55.639219 \r\nL 406.771563 55.639219 \r\n\" style=\"fill:none;stroke:#000000;stroke-linecap:square;stroke-linejoin:miter;stroke-width:0.8;\"/>\r\n   </g>\r\n   <g id=\"text_11\">\r\n    <!-- Correlation Map -->\r\n    <g transform=\"translate(180.559375 49.639219)scale(0.12 -0.12)\">\r\n     <defs>\r\n      <path d=\"M 4122 4306 \r\nL 4122 3641 \r\nQ 3803 3938 3442 4084 \r\nQ 3081 4231 2675 4231 \r\nQ 1875 4231 1450 3742 \r\nQ 1025 3253 1025 2328 \r\nQ 1025 1406 1450 917 \r\nQ 1875 428 2675 428 \r\nQ 3081 428 3442 575 \r\nQ 3803 722 4122 1019 \r\nL 4122 359 \r\nQ 3791 134 3420 21 \r\nQ 3050 -91 2638 -91 \r\nQ 1578 -91 968 557 \r\nQ 359 1206 359 2328 \r\nQ 359 3453 968 4101 \r\nQ 1578 4750 2638 4750 \r\nQ 3056 4750 3426 4639 \r\nQ 3797 4528 4122 4306 \r\nz\r\n\" id=\"DejaVuSans-43\" transform=\"scale(0.015625)\"/>\r\n      <path d=\"M 603 4863 \r\nL 1178 4863 \r\nL 1178 0 \r\nL 603 0 \r\nL 603 4863 \r\nz\r\n\" id=\"DejaVuSans-6c\" transform=\"scale(0.015625)\"/>\r\n      <path id=\"DejaVuSans-20\" transform=\"scale(0.015625)\"/>\r\n      <path d=\"M 628 4666 \r\nL 1569 4666 \r\nL 2759 1491 \r\nL 3956 4666 \r\nL 4897 4666 \r\nL 4897 0 \r\nL 4281 0 \r\nL 4281 4097 \r\nL 3078 897 \r\nL 2444 897 \r\nL 1241 4097 \r\nL 1241 0 \r\nL 628 0 \r\nL 628 4666 \r\nz\r\n\" id=\"DejaVuSans-4d\" transform=\"scale(0.015625)\"/>\r\n      <path d=\"M 1159 525 \r\nL 1159 -1331 \r\nL 581 -1331 \r\nL 581 3500 \r\nL 1159 3500 \r\nL 1159 2969 \r\nQ 1341 3281 1617 3432 \r\nQ 1894 3584 2278 3584 \r\nQ 2916 3584 3314 3078 \r\nQ 3713 2572 3713 1747 \r\nQ 3713 922 3314 415 \r\nQ 2916 -91 2278 -91 \r\nQ 1894 -91 1617 61 \r\nQ 1341 213 1159 525 \r\nz\r\nM 3116 1747 \r\nQ 3116 2381 2855 2742 \r\nQ 2594 3103 2138 3103 \r\nQ 1681 3103 1420 2742 \r\nQ 1159 2381 1159 1747 \r\nQ 1159 1113 1420 752 \r\nQ 1681 391 2138 391 \r\nQ 2594 391 2855 752 \r\nQ 3116 1113 3116 1747 \r\nz\r\n\" id=\"DejaVuSans-70\" transform=\"scale(0.015625)\"/>\r\n     </defs>\r\n     <use xlink:href=\"#DejaVuSans-43\"/>\r\n     <use x=\"69.824219\" xlink:href=\"#DejaVuSans-6f\"/>\r\n     <use x=\"131.005859\" xlink:href=\"#DejaVuSans-72\"/>\r\n     <use x=\"170.369141\" xlink:href=\"#DejaVuSans-72\"/>\r\n     <use x=\"209.232422\" xlink:href=\"#DejaVuSans-65\"/>\r\n     <use x=\"270.755859\" xlink:href=\"#DejaVuSans-6c\"/>\r\n     <use x=\"298.539062\" xlink:href=\"#DejaVuSans-61\"/>\r\n     <use x=\"359.818359\" xlink:href=\"#DejaVuSans-74\"/>\r\n     <use x=\"399.027344\" xlink:href=\"#DejaVuSans-69\"/>\r\n     <use x=\"426.810547\" xlink:href=\"#DejaVuSans-6f\"/>\r\n     <use x=\"487.992188\" xlink:href=\"#DejaVuSans-6e\"/>\r\n     <use x=\"551.371094\" xlink:href=\"#DejaVuSans-20\"/>\r\n     <use x=\"583.158203\" xlink:href=\"#DejaVuSans-4d\"/>\r\n     <use x=\"669.4375\" xlink:href=\"#DejaVuSans-61\"/>\r\n     <use x=\"730.716797\" xlink:href=\"#DejaVuSans-70\"/>\r\n    </g>\r\n   </g>\r\n  </g>\r\n  <g id=\"axes_2\">\r\n   <g id=\"patch_7\">\r\n    <path d=\"M 429.091563 457.399219 \r\nL 451.411563 457.399219 \r\nL 451.411563 10.999219 \r\nL 429.091563 10.999219 \r\nz\r\n\" style=\"fill:#ffffff;\"/>\r\n   </g>\r\n   <g id=\"patch_8\">\r\n    <path clip-path=\"url(#pb80cdf364b)\" d=\"M 429.091563 457.399219 \r\nL 429.091563 455.655469 \r\nL 429.091563 12.742969 \r\nL 429.091563 10.999219 \r\nL 451.411563 10.999219 \r\nL 451.411563 12.742969 \r\nL 451.411563 455.655469 \r\nL 451.411563 457.399219 \r\nL 451.411563 457.399219 \r\nz\r\n\" style=\"fill:#ffffff;stroke:#ffffff;stroke-linejoin:miter;stroke-width:0.01;\"/>\r\n   </g>\r\n   <image height=\"446.4\" id=\"imagef31bf590f2\" transform=\"scale(1 -1)translate(0 -446.4)\" width=\"22.32\" x=\"429.12\" xlink:href=\"data:image/png;base64,\r\niVBORw0KGgoAAAANSUhEUgAAAB8AAAJsCAYAAAAFh3h/AAAC/0lEQVR4nO2d0VEEMQzFnKxLowT6L4Wli9WHpAY8dvSc3MHA+Tm/70BcqvDMzM7h6qOds2M/92DFE85XPOEQxMKNWDhr5+cWte8RCzcJB6AWztr56RkFIBZOu2QaO0KPCQSzcHUOYI5ajwkAs3DWDw3eqNHCScde5wjmqFk3XMIh7Gsd+5LlxcJpc17nCOKotdsJxMJpcy7uXLtk2nAI3qiVc4QdrnGzcNqc79tuBxBH7bVuuIRD8F6p3mdUH5cQvMJ5lwwtHFecFk4atYRD8G447+/JFDUEb9QSDqHHBIJaOK54Z+4r7t1wCYdg3nDWrz8TDsG74by3WsIheJdMwiF4hfOeecIhJByCWrher9+jFo4r3pn7invH7o1awiEkHELCIXTmvuLesXujlnAIi/0rwUk4iDpHaLcjJBxCwiHUOUJRQxALp+28nCMkHELCIdS5r3hRQ/AK5y3ujVo5RxB3XtQIEg4h4RDozrkfYhc1X3F11LjiYuG0OU84BO/Ye0wgeKPmLe5dMuUcwbvb6bFzxescwds5PXbphks4hB4TCHTnXHFx1MA/IYQLJ40aPXaueJ37iu+MNOde4fa02wESDiHhEGjhuOJq4aQ59264ooYgFk57qyUcwoK+0Z1bz7yxI/SYQNgrFk7aeWNH8G4475KhhZOOfa/1R1u0cFzxNpyvuHnDaTvXnnnCIfSYQPDm3Bu1xo5Q5wjmqFmv1IRD8I69zhHMUWu3A5iFO39YcbrzhPueNhwC3bl0ybBjf7zCWZdMOUfw7nZ4w1lzXtQQzFGzjn3vSKNWzhH2sQrnPXN6t2uFsz4gEw7B+26nr1Rpzr3Cec884RC873ZaOGnOEw7B/Hq1XqneM6eFk47d+317VypC73YEc9SsG857q9HCScfehkPo4xICHTXpmdNR0wpnjVo5R/B+304LJ815UUNQR006dm/ndM654gnnK75kdfrjElecjhrXelFDoKOWcN+z15pz74bznnkbDmEvWF8snDbn+5yE+x5vzv8BohOP2s6OqdgAAAAASUVORK5CYII=\" y=\"-10.8\"/>\r\n   <g id=\"matplotlib.axis_3\"/>\r\n   <g id=\"matplotlib.axis_4\">\r\n    <g id=\"ytick_6\">\r\n     <g id=\"line2d_11\">\r\n      <defs>\r\n       <path d=\"M 0 0 \r\nL 3.5 0 \r\n\" id=\"m20c189c388\" style=\"stroke:#000000;stroke-width:0.8;\"/>\r\n      </defs>\r\n      <g>\r\n       <use style=\"stroke:#000000;stroke-width:0.8;\" x=\"451.411563\" xlink:href=\"#m20c189c388\" y=\"385.844023\"/>\r\n      </g>\r\n     </g>\r\n     <g id=\"text_12\">\r\n      <!-- 0.0 -->\r\n      <g transform=\"translate(458.411563 389.643242)scale(0.1 -0.1)\">\r\n       <defs>\r\n        <path d=\"M 2034 4250 \r\nQ 1547 4250 1301 3770 \r\nQ 1056 3291 1056 2328 \r\nQ 1056 1369 1301 889 \r\nQ 1547 409 2034 409 \r\nQ 2525 409 2770 889 \r\nQ 3016 1369 3016 2328 \r\nQ 3016 3291 2770 3770 \r\nQ 2525 4250 2034 4250 \r\nz\r\nM 2034 4750 \r\nQ 2819 4750 3233 4129 \r\nQ 3647 3509 3647 2328 \r\nQ 3647 1150 3233 529 \r\nQ 2819 -91 2034 -91 \r\nQ 1250 -91 836 529 \r\nQ 422 1150 422 2328 \r\nQ 422 3509 836 4129 \r\nQ 1250 4750 2034 4750 \r\nz\r\n\" id=\"DejaVuSans-30\" transform=\"scale(0.015625)\"/>\r\n        <path d=\"M 684 794 \r\nL 1344 794 \r\nL 1344 0 \r\nL 684 0 \r\nL 684 794 \r\nz\r\n\" id=\"DejaVuSans-2e\" transform=\"scale(0.015625)\"/>\r\n       </defs>\r\n       <use xlink:href=\"#DejaVuSans-30\"/>\r\n       <use x=\"63.623047\" xlink:href=\"#DejaVuSans-2e\"/>\r\n       <use x=\"95.410156\" xlink:href=\"#DejaVuSans-30\"/>\r\n      </g>\r\n     </g>\r\n    </g>\r\n    <g id=\"ytick_7\">\r\n     <g id=\"line2d_12\">\r\n      <g>\r\n       <use style=\"stroke:#000000;stroke-width:0.8;\" x=\"451.411563\" xlink:href=\"#m20c189c388\" y=\"310.875063\"/>\r\n      </g>\r\n     </g>\r\n     <g id=\"text_13\">\r\n      <!-- 0.2 -->\r\n      <g transform=\"translate(458.411563 314.674281)scale(0.1 -0.1)\">\r\n       <defs>\r\n        <path d=\"M 1228 531 \r\nL 3431 531 \r\nL 3431 0 \r\nL 469 0 \r\nL 469 531 \r\nQ 828 903 1448 1529 \r\nQ 2069 2156 2228 2338 \r\nQ 2531 2678 2651 2914 \r\nQ 2772 3150 2772 3378 \r\nQ 2772 3750 2511 3984 \r\nQ 2250 4219 1831 4219 \r\nQ 1534 4219 1204 4116 \r\nQ 875 4013 500 3803 \r\nL 500 4441 \r\nQ 881 4594 1212 4672 \r\nQ 1544 4750 1819 4750 \r\nQ 2544 4750 2975 4387 \r\nQ 3406 4025 3406 3419 \r\nQ 3406 3131 3298 2873 \r\nQ 3191 2616 2906 2266 \r\nQ 2828 2175 2409 1742 \r\nQ 1991 1309 1228 531 \r\nz\r\n\" id=\"DejaVuSans-32\" transform=\"scale(0.015625)\"/>\r\n       </defs>\r\n       <use xlink:href=\"#DejaVuSans-30\"/>\r\n       <use x=\"63.623047\" xlink:href=\"#DejaVuSans-2e\"/>\r\n       <use x=\"95.410156\" xlink:href=\"#DejaVuSans-32\"/>\r\n      </g>\r\n     </g>\r\n    </g>\r\n    <g id=\"ytick_8\">\r\n     <g id=\"line2d_13\">\r\n      <g>\r\n       <use style=\"stroke:#000000;stroke-width:0.8;\" x=\"451.411563\" xlink:href=\"#m20c189c388\" y=\"235.906102\"/>\r\n      </g>\r\n     </g>\r\n     <g id=\"text_14\">\r\n      <!-- 0.4 -->\r\n      <g transform=\"translate(458.411563 239.70532)scale(0.1 -0.1)\">\r\n       <defs>\r\n        <path d=\"M 2419 4116 \r\nL 825 1625 \r\nL 2419 1625 \r\nL 2419 4116 \r\nz\r\nM 2253 4666 \r\nL 3047 4666 \r\nL 3047 1625 \r\nL 3713 1625 \r\nL 3713 1100 \r\nL 3047 1100 \r\nL 3047 0 \r\nL 2419 0 \r\nL 2419 1100 \r\nL 313 1100 \r\nL 313 1709 \r\nL 2253 4666 \r\nz\r\n\" id=\"DejaVuSans-34\" transform=\"scale(0.015625)\"/>\r\n       </defs>\r\n       <use xlink:href=\"#DejaVuSans-30\"/>\r\n       <use x=\"63.623047\" xlink:href=\"#DejaVuSans-2e\"/>\r\n       <use x=\"95.410156\" xlink:href=\"#DejaVuSans-34\"/>\r\n      </g>\r\n     </g>\r\n    </g>\r\n    <g id=\"ytick_9\">\r\n     <g id=\"line2d_14\">\r\n      <g>\r\n       <use style=\"stroke:#000000;stroke-width:0.8;\" x=\"451.411563\" xlink:href=\"#m20c189c388\" y=\"160.937141\"/>\r\n      </g>\r\n     </g>\r\n     <g id=\"text_15\">\r\n      <!-- 0.6 -->\r\n      <g transform=\"translate(458.411563 164.736359)scale(0.1 -0.1)\">\r\n       <defs>\r\n        <path d=\"M 2113 2584 \r\nQ 1688 2584 1439 2293 \r\nQ 1191 2003 1191 1497 \r\nQ 1191 994 1439 701 \r\nQ 1688 409 2113 409 \r\nQ 2538 409 2786 701 \r\nQ 3034 994 3034 1497 \r\nQ 3034 2003 2786 2293 \r\nQ 2538 2584 2113 2584 \r\nz\r\nM 3366 4563 \r\nL 3366 3988 \r\nQ 3128 4100 2886 4159 \r\nQ 2644 4219 2406 4219 \r\nQ 1781 4219 1451 3797 \r\nQ 1122 3375 1075 2522 \r\nQ 1259 2794 1537 2939 \r\nQ 1816 3084 2150 3084 \r\nQ 2853 3084 3261 2657 \r\nQ 3669 2231 3669 1497 \r\nQ 3669 778 3244 343 \r\nQ 2819 -91 2113 -91 \r\nQ 1303 -91 875 529 \r\nQ 447 1150 447 2328 \r\nQ 447 3434 972 4092 \r\nQ 1497 4750 2381 4750 \r\nQ 2619 4750 2861 4703 \r\nQ 3103 4656 3366 4563 \r\nz\r\n\" id=\"DejaVuSans-36\" transform=\"scale(0.015625)\"/>\r\n       </defs>\r\n       <use xlink:href=\"#DejaVuSans-30\"/>\r\n       <use x=\"63.623047\" xlink:href=\"#DejaVuSans-2e\"/>\r\n       <use x=\"95.410156\" xlink:href=\"#DejaVuSans-36\"/>\r\n      </g>\r\n     </g>\r\n    </g>\r\n    <g id=\"ytick_10\">\r\n     <g id=\"line2d_15\">\r\n      <g>\r\n       <use style=\"stroke:#000000;stroke-width:0.8;\" x=\"451.411563\" xlink:href=\"#m20c189c388\" y=\"85.96818\"/>\r\n      </g>\r\n     </g>\r\n     <g id=\"text_16\">\r\n      <!-- 0.8 -->\r\n      <g transform=\"translate(458.411563 89.767398)scale(0.1 -0.1)\">\r\n       <defs>\r\n        <path d=\"M 2034 2216 \r\nQ 1584 2216 1326 1975 \r\nQ 1069 1734 1069 1313 \r\nQ 1069 891 1326 650 \r\nQ 1584 409 2034 409 \r\nQ 2484 409 2743 651 \r\nQ 3003 894 3003 1313 \r\nQ 3003 1734 2745 1975 \r\nQ 2488 2216 2034 2216 \r\nz\r\nM 1403 2484 \r\nQ 997 2584 770 2862 \r\nQ 544 3141 544 3541 \r\nQ 544 4100 942 4425 \r\nQ 1341 4750 2034 4750 \r\nQ 2731 4750 3128 4425 \r\nQ 3525 4100 3525 3541 \r\nQ 3525 3141 3298 2862 \r\nQ 3072 2584 2669 2484 \r\nQ 3125 2378 3379 2068 \r\nQ 3634 1759 3634 1313 \r\nQ 3634 634 3220 271 \r\nQ 2806 -91 2034 -91 \r\nQ 1263 -91 848 271 \r\nQ 434 634 434 1313 \r\nQ 434 1759 690 2068 \r\nQ 947 2378 1403 2484 \r\nz\r\nM 1172 3481 \r\nQ 1172 3119 1398 2916 \r\nQ 1625 2713 2034 2713 \r\nQ 2441 2713 2670 2916 \r\nQ 2900 3119 2900 3481 \r\nQ 2900 3844 2670 4047 \r\nQ 2441 4250 2034 4250 \r\nQ 1625 4250 1398 4047 \r\nQ 1172 3844 1172 3481 \r\nz\r\n\" id=\"DejaVuSans-38\" transform=\"scale(0.015625)\"/>\r\n       </defs>\r\n       <use xlink:href=\"#DejaVuSans-30\"/>\r\n       <use x=\"63.623047\" xlink:href=\"#DejaVuSans-2e\"/>\r\n       <use x=\"95.410156\" xlink:href=\"#DejaVuSans-38\"/>\r\n      </g>\r\n     </g>\r\n    </g>\r\n    <g id=\"ytick_11\">\r\n     <g id=\"line2d_16\">\r\n      <g>\r\n       <use style=\"stroke:#000000;stroke-width:0.8;\" x=\"451.411563\" xlink:href=\"#m20c189c388\" y=\"10.999219\"/>\r\n      </g>\r\n     </g>\r\n     <g id=\"text_17\">\r\n      <!-- 1.0 -->\r\n      <g transform=\"translate(458.411563 14.798437)scale(0.1 -0.1)\">\r\n       <defs>\r\n        <path d=\"M 794 531 \r\nL 1825 531 \r\nL 1825 4091 \r\nL 703 3866 \r\nL 703 4441 \r\nL 1819 4666 \r\nL 2450 4666 \r\nL 2450 531 \r\nL 3481 531 \r\nL 3481 0 \r\nL 794 0 \r\nL 794 531 \r\nz\r\n\" id=\"DejaVuSans-31\" transform=\"scale(0.015625)\"/>\r\n       </defs>\r\n       <use xlink:href=\"#DejaVuSans-31\"/>\r\n       <use x=\"63.623047\" xlink:href=\"#DejaVuSans-2e\"/>\r\n       <use x=\"95.410156\" xlink:href=\"#DejaVuSans-30\"/>\r\n      </g>\r\n     </g>\r\n    </g>\r\n   </g>\r\n   <g id=\"LineCollection_1\"/>\r\n   <g id=\"patch_9\">\r\n    <path d=\"M 429.091563 457.399219 \r\nL 429.091563 455.655469 \r\nL 429.091563 12.742969 \r\nL 429.091563 10.999219 \r\nL 451.411563 10.999219 \r\nL 451.411563 12.742969 \r\nL 451.411563 455.655469 \r\nL 451.411563 457.399219 \r\nz\r\n\" style=\"fill:none;stroke:#000000;stroke-linecap:square;stroke-linejoin:miter;stroke-width:0.8;\"/>\r\n   </g>\r\n  </g>\r\n </g>\r\n <defs>\r\n  <clipPath id=\"p4aa26997a3\">\r\n   <rect height=\"357.12\" width=\"357.12\" x=\"49.651563\" y=\"55.639219\"/>\r\n  </clipPath>\r\n  <clipPath id=\"pb80cdf364b\">\r\n   <rect height=\"446.4\" width=\"22.32\" x=\"429.091563\" y=\"10.999219\"/>\r\n  </clipPath>\r\n </defs>\r\n</svg>\r\n",
      "image/png": "[encoded data removed]"
     },
     "metadata": {}
    },
    {
     "output_type": "execute_result",
     "data": {
      "text/plain": [
       "             age    gender      size      coat     breed\n",
       "age     1.000000 -0.018718  0.095492  0.071828 -0.006869\n",
       "gender -0.018718  1.000000 -0.190893 -0.081781  0.035960\n",
       "size    0.095492 -0.190893  1.000000  0.137256 -0.002803\n",
       "coat    0.071828 -0.081781  0.137256  1.000000 -0.070799\n",
       "breed  -0.006869  0.035960 -0.002803 -0.070799  1.000000"
      ],
      "text/html": "<div>\n<style scoped>\n    .dataframe tbody tr th:only-of-type {\n        vertical-align: middle;\n    }\n\n    .dataframe tbody tr th {\n        vertical-align: top;\n    }\n\n    .dataframe thead th {\n        text-align: right;\n    }\n</style>\n<table border=\"1\" class=\"dataframe\">\n  <thead>\n    <tr style=\"text-align: right;\">\n      <th></th>\n      <th>age</th>\n      <th>gender</th>\n      <th>size</th>\n      <th>coat</th>\n      <th>breed</th>\n    </tr>\n  </thead>\n  <tbody>\n    <tr>\n      <th>age</th>\n      <td>1.000000</td>\n      <td>-0.018718</td>\n      <td>0.095492</td>\n      <td>0.071828</td>\n      <td>-0.006869</td>\n    </tr>\n    <tr>\n      <th>gender</th>\n      <td>-0.018718</td>\n      <td>1.000000</td>\n      <td>-0.190893</td>\n      <td>-0.081781</td>\n      <td>0.035960</td>\n    </tr>\n    <tr>\n      <th>size</th>\n      <td>0.095492</td>\n      <td>-0.190893</td>\n      <td>1.000000</td>\n      <td>0.137256</td>\n      <td>-0.002803</td>\n    </tr>\n    <tr>\n      <th>coat</th>\n      <td>0.071828</td>\n      <td>-0.081781</td>\n      <td>0.137256</td>\n      <td>1.000000</td>\n      <td>-0.070799</td>\n    </tr>\n    <tr>\n      <th>breed</th>\n      <td>-0.006869</td>\n      <td>0.035960</td>\n      <td>-0.002803</td>\n      <td>-0.070799</td>\n      <td>1.000000</td>\n    </tr>\n  </tbody>\n</table>\n</div>"
     },
     "metadata": {},
     "execution_count": 25
    }
   ],
   "source": [
    "get_corr_map(breeds_data_final.iloc[:, :5])"
   ]
  },
  {
   "cell_type": "code",
   "execution_count": 22,
   "metadata": {},
   "outputs": [
    {
     "output_type": "stream",
     "name": "stdout",
     "text": [
      "[ 0.  1.  2.  3.  4.  5.  6.  7.  8.  9. 10. 11. 12. 13. 14. 15. 16. 17.\n 18. 19. 20. 21. 22. 23. 24. 25.]\n26\n"
     ]
    }
   ],
   "source": [
    "# PROBLEM HERE (Solved)\n",
    "# change data to represent all 26 breeds instead of the 66\n",
    "\n",
    "#print(breeds_data_final.iloc[:, 4].unique())\n",
    "#print(len(breeds_data_final.iloc[:, 4].unique()))\n",
    "\n"
   ]
  },
  {
   "cell_type": "code",
   "execution_count": 26,
   "metadata": {},
   "outputs": [],
   "source": [
    "# store df\n",
    "import os\n",
    "\n",
    "working_dir = 'working_cats/data/'\n",
    "datasets_dir = '../../Datasets/cats/data'\n",
    "data_file = 'breeds_data_final.pkl'\n",
    "\n",
    "if (os.path.isdir(working_dir) == False):\n",
    "    os.mkdir(working_dir)\n",
    "    \n",
    "breeds_data_final.to_pickle(os.path.join(working_dir, data_file))\n",
    "breeds_data_final.to_pickle(os.path.join(datasets_dir, data_file))"
   ]
  },
  {
   "cell_type": "markdown",
   "metadata": {},
   "source": [
    "# --Previous Works Start Here--"
   ]
  },
  {
   "cell_type": "markdown",
   "metadata": {},
   "source": [
    "## Test if None images\n",
    "for path in data['image']:\n",
    "    if 'None' in path:\n",
    "        print(path)"
   ]
  },
  {
   "cell_type": "markdown",
   "metadata": {},
   "source": [
    "# download images from url link\n",
    "import requests\n",
    "import shutil\n",
    "\n",
    "def down_img(img_url, folder, fn_id):\n",
    "    ## Set up the image URL and filename\n",
    "    #img_url = \"https://cdn.pixabay.com/photo/2020/02/06/09/39/summer-4823612_960_720.jpg\"\n",
    "    work_dir = 'working_cats/images/'+folder\n",
    "    filename = work_dir+fn_id\n",
    "    if (os.path.isdir(work_dir) == False):\n",
    "        os.mkdir(work_dir)\n",
    "    \n",
    "    # Open the url image, set stream to True, this will return the stream content.\n",
    "    r = requests.get(img_url, stream = True)\n",
    "\n",
    "    # Check if the image was retrieved successfully\n",
    "    if r.status_code == 200:\n",
    "        # Set decode_content value to True, otherwise the downloaded image file's size will be zero.\n",
    "        r.raw.decode_content = True\n",
    "\n",
    "        # Open a local file with wb ( write binary ) permission.\n",
    "        with open(filename,'wb') as f:\n",
    "            shutil.copyfileobj(r.raw, f)\n",
    "\n",
    "        print('Image sucessfully Downloaded: ',filename)\n",
    "    else:\n",
    "        print('Image Couldn\\'t be retreived')"
   ]
  },
  {
   "cell_type": "markdown",
   "metadata": {
    "scrolled": true
   },
   "source": [
    "# import re\n",
    "\n",
    "# download images from df and store in working folders\n",
    "#print(breeds_data.shape[0])\n",
    "fol = ['train/','val/','test/']\n",
    "deli = \",\",\"[\",\"'\"\n",
    "reg = '|'.join(map(re.escape, deli))\n",
    "#print(breeds_data['med_photos'].iloc[1])\n",
    "\n",
    "#split into train, test and val sets\n",
    "train, val, test = np.split(breeds_data.sample(frac=1, random_state=42),\\\n",
    "                            [int(.6*len(breeds_data)), int(.8*len(breeds_data))])\n",
    "\n",
    "sets = [train, val, test]\n",
    "\n",
    "for se,data in enumerate(sets):\n",
    "    for k in range(data.shape[0]):\n",
    "        \n",
    "        # get url string from df\n",
    "        urls = data['med_photos'].iloc[k]\n",
    "        url = re.split(reg,urls)[2]\n",
    "        #print(url)\n",
    "\n",
    "        #filename\n",
    "        fn_id = data['id'].iloc[k]\n",
    "        fn_id = str(fn_id) + '.png'\n",
    "        # test\n",
    "        down_img(url, fol[se], fn_id)\n",
    "        "
   ]
  }
 ],
 "metadata": {
  "kernelspec": {
   "name": "python385jvsc74a57bd06dcd9c3289ef195d0028faf16ac2cecd96892f47ce3546815226f9facd6dab9c",
   "display_name": "Python 3.8.5 64-bit ('core': conda)"
  },
  "language_info": {
   "codemirror_mode": {
    "name": "ipython",
    "version": 3
   },
   "file_extension": ".py",
   "mimetype": "text/x-python",
   "name": "python",
   "nbconvert_exporter": "python",
   "pygments_lexer": "ipython3",
   "version": "3.8.5"
  }
 },
 "nbformat": 4,
 "nbformat_minor": 2
}