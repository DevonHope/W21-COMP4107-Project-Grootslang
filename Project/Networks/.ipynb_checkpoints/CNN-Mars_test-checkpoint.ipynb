{
 "cells": [
  {
   "cell_type": "code",
   "execution_count": 2,
   "id": "85a2fe25",
   "metadata": {},
   "outputs": [
    {
     "name": "stdout",
     "output_type": "stream",
     "text": [
      "Default GPU Device: /device:GPU:0\n"
     ]
    }
   ],
   "source": [
    "import os\n",
    "import itertools\n",
    "import numpy as np\n",
    "import pandas as pd\n",
    "import seaborn as sns\n",
    "import tensorflow as tf\n",
    "import matplotlib.pyplot as plt\n",
    "import matplotlib.image as mpimg\n",
    "from tensorflow.keras.models import Sequential\n",
    "from tensorflow.keras.optimizers import RMSprop\n",
    "from tensorflow.keras.utils import plot_model\n",
    "from tensorflow.keras.layers import Dense, Dropout, Activation, Flatten, Conv2D, MaxPooling2D\n",
    "\n",
    "if tf.test.gpu_device_name():\n",
    "   print('Default GPU Device: {}'.format(tf.test.gpu_device_name()))\n",
    "else:\n",
    "   print(\"Please install GPU version of TF\")"
   ]
  },
  {
   "cell_type": "code",
   "execution_count": 4,
   "id": "aa3d838c",
   "metadata": {},
   "outputs": [
    {
     "name": "stdout",
     "output_type": "stream",
     "text": [
      "50901 rows loaded.\n"
     ]
    }
   ],
   "source": [
    "#import mars data        \n",
    "df = pd.read_csv('../Datasets/MapData-Evans-GP-Flatten.csv', skipinitialspace=True)\n",
    "totalRows = len(df)\n",
    "print(str(totalRows) + \" rows loaded.\")"
   ]
  },
  {
   "cell_type": "code",
   "execution_count": 5,
   "id": "eb2b1748",
   "metadata": {},
   "outputs": [
    {
     "name": "stdout",
     "output_type": "stream",
     "text": [
      "Index(['Latitude °', 'Latitude', 'Longitude °', 'Longitude', 'Topography',\n",
      "       'Difficulty Challenge', 'Altitude', 'Temperature', 'Metals',\n",
      "       'Rare Metals', 'Concrete', 'Water', 'Dust Devils', 'Dust Storms',\n",
      "       'Meteors', 'Cold Waves', 'Map Name', 'Named Location',\n",
      "       'Advanced Drone Drive', 'Alien Imprints', 'Ancient Terraforming Device',\n",
      "       'Artificial Muscles', 'Autonomous Hubs', 'Cloning',\n",
      "       'Construction Nanites ', 'Core Metals', 'Core Rare Metals',\n",
      "       'Core Water', 'Cryo-sleep', 'Designed Forestation', 'Dome Streamlining',\n",
      "       'Dry Farming', 'Eternal Fusion', 'Extractor AI', 'Factory Automation',\n",
      "       'Forever Young', 'Frictionless Composites', 'Gem Architecture',\n",
      "       'Gene Selection', 'Giant Crops', 'Good Vibrations', 'Hive Mind ',\n",
      "       'Hull Polarization', 'Hypersensitive Photovoltaics',\n",
      "       'Inspiring Architecture', 'Interplanetary Learning', 'Lake Vaporators',\n",
      "       'Landscaping Nanites', 'Magnetic Extraction', 'Martian Diet',\n",
      "       'Martian Steel', 'Martianborn Ingenuity', 'Multispiral Architecture',\n",
      "       'Nano Refinement', 'Neo-Concrete', 'Neural Empathy',\n",
      "       'Nocturnal Adaptation', 'Overcharge Amplifications', 'Plasma Rocket',\n",
      "       'Plutonium Synthesis', 'Prefab Compression', 'Printed Electronics',\n",
      "       'Project Phoenix', 'Rapid Sleep', 'Resilient Vegetation', 'Safe Mode',\n",
      "       'Service Bots', 'Soylent Green', 'Space Rehabilitation',\n",
      "       'Superconducting Computing', 'Superfungus', 'Superior Cables',\n",
      "       'Superior Pipes', 'Sustained Workload', 'The Positronic Brain',\n",
      "       'Vector Pump', 'Vocation-Oriented Society', 'Wireless Power',\n",
      "       'Zero-Space Computing'],\n",
      "      dtype='object')\n"
     ]
    }
   ],
   "source": []
  },
  {
   "cell_type": "code",
   "execution_count": null,
   "id": "c1565281",
   "metadata": {},
   "outputs": [],
   "source": [
    "for icol in range(len(column_names)):\n",
    "    print(column_names[icol])\n",
    "    print( df[column_names[icol]].unique() )\n",
    "    print('')"
   ]
  }
 ],
 "metadata": {
  "kernelspec": {
   "display_name": "gpu-test",
   "language": "python",
   "name": "gpu-test"
  },
  "language_info": {
   "codemirror_mode": {
    "name": "ipython",
    "version": 3
   },
   "file_extension": ".py",
   "mimetype": "text/x-python",
   "name": "python",
   "nbconvert_exporter": "python",
   "pygments_lexer": "ipython3",
   "version": "3.8.8"
  }
 },
 "nbformat": 4,
 "nbformat_minor": 5
}
